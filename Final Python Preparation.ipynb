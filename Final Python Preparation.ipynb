{
 "cells": [
  {
   "cell_type": "markdown",
   "id": "9cb9883c",
   "metadata": {},
   "source": [
    "# What is Python"
   ]
  },
  {
   "cell_type": "code",
   "execution_count": 12,
   "id": "5987776f",
   "metadata": {},
   "outputs": [],
   "source": [
    "# Python is a simple, general purpose, high level, interpreted scripting language,and object-oriented programming language"
   ]
  },
  {
   "cell_type": "markdown",
   "id": "d842199f",
   "metadata": {},
   "source": [
    "# What is Simple"
   ]
  },
  {
   "cell_type": "code",
   "execution_count": 13,
   "id": "32c01830",
   "metadata": {},
   "outputs": [],
   "source": [
    "# Python has a simple syntax similar to the English language.\n",
    "\n",
    "# Python has syntax that allows developers to write programs with fewer lines than some other programming languages."
   ]
  },
  {
   "cell_type": "markdown",
   "id": "809d4983",
   "metadata": {},
   "source": [
    "# What is General purpose"
   ]
  },
  {
   "cell_type": "code",
   "execution_count": 14,
   "id": "da1a91f5",
   "metadata": {},
   "outputs": [],
   "source": [
    "# A general-purpose language is a programming language that can create all types of programs."
   ]
  },
  {
   "cell_type": "markdown",
   "id": "a7324b6b",
   "metadata": {},
   "source": [
    "# What is High Level Language"
   ]
  },
  {
   "cell_type": "code",
   "execution_count": 15,
   "id": "bc197a3d",
   "metadata": {},
   "outputs": [],
   "source": [
    "# Programmers can easily understand or interpret or compile the high level language in comparison of machine."
   ]
  },
  {
   "cell_type": "markdown",
   "id": "53fcc8a2",
   "metadata": {},
   "source": [
    "# What is Interpreated Language"
   ]
  },
  {
   "cell_type": "code",
   "execution_count": 16,
   "id": "c07c9c0f",
   "metadata": {},
   "outputs": [],
   "source": [
    "# An interpreted language is a programming language that is generally interpreted, without compiling a program into machine instructions"
   ]
  },
  {
   "cell_type": "markdown",
   "id": "78337cca",
   "metadata": {},
   "source": [
    "# What is Compiled Language"
   ]
  },
  {
   "cell_type": "code",
   "execution_count": 17,
   "id": "23417bdf",
   "metadata": {},
   "outputs": [],
   "source": [
    "# A compiled language is a programming language that is generally compiled and not interpreted.\n",
    "\n",
    "#It is one where the program, once compiled, is expressed in the instructions of the target machine."
   ]
  },
  {
   "cell_type": "markdown",
   "id": "7c5ec43c",
   "metadata": {},
   "source": [
    "# What is Object Oriented Programming language"
   ]
  },
  {
   "cell_type": "code",
   "execution_count": 18,
   "id": "26498921",
   "metadata": {},
   "outputs": [],
   "source": [
    "# As the name suggests, Object-Oriented Programming or OOPs refers to languages that use objects in programming.\n",
    "\n",
    "# Object-oriented programming aims to implement real-world entities like inheritance, hiding, polymorphism, etc in programming."
   ]
  },
  {
   "cell_type": "markdown",
   "id": "adf0bbdc",
   "metadata": {},
   "source": [
    "# Who Develope Python"
   ]
  },
  {
   "cell_type": "code",
   "execution_count": 20,
   "id": "a626b029",
   "metadata": {},
   "outputs": [],
   "source": [
    "# It was created by Guido van Rossum, and released in 1991."
   ]
  },
  {
   "cell_type": "markdown",
   "id": "20651eba",
   "metadata": {},
   "source": [
    "# Where did the name Python come from"
   ]
  },
  {
   "cell_type": "code",
   "execution_count": 21,
   "id": "731bd1c5",
   "metadata": {},
   "outputs": [],
   "source": [
    "# The inspiration for the name came from BBC’s TV Show – ‘Monty Python’s Flying Circus’.\n",
    "\n",
    "# as he was a big fan of the TV show and also he wanted a short, unique and slightly mysterious name for his invention and hence he named it Python!."
   ]
  },
  {
   "cell_type": "markdown",
   "id": "abe7ad0d",
   "metadata": {},
   "source": [
    "# What can Python do?"
   ]
  },
  {
   "cell_type": "code",
   "execution_count": 22,
   "id": "529a21a1",
   "metadata": {},
   "outputs": [],
   "source": [
    "# Python can be used on a server to create web applications.\n",
    "# Python can be used alongside software to create workflows.\n",
    "# Python can connect to database systems. It can also read and modify files.\n",
    "#b Python can be used to handle big data and perform complex mathematics.\n",
    "# Python can be used for rapid prototyping, or for production-ready software development"
   ]
  },
  {
   "cell_type": "markdown",
   "id": "9e0169f8",
   "metadata": {},
   "source": [
    "# Why Python"
   ]
  },
  {
   "cell_type": "code",
   "execution_count": 23,
   "id": "23f899ed",
   "metadata": {},
   "outputs": [],
   "source": [
    "# Python works on different platforms (Windows, Mac, Linux, Raspberry Pi, etc).\n",
    "# Python has a simple syntax similar to the English language.\n",
    "# Python has syntax that allows developers to write programs with fewer lines than some other programming languages.\n",
    "# Python runs on an interpreter system, meaning that code can be executed as soon as it is written. This means that prototyping can be very quick.\n",
    "# Python can be treated in a procedural way, an object-oriented way or a functional way."
   ]
  },
  {
   "cell_type": "code",
   "execution_count": 24,
   "id": "7f3a025c",
   "metadata": {},
   "outputs": [
    {
     "name": "stdout",
     "output_type": "stream",
     "text": [
      "Hello world\n"
     ]
    }
   ],
   "source": [
    "print(\"Hello world\")"
   ]
  },
  {
   "cell_type": "markdown",
   "id": "185fede3",
   "metadata": {},
   "source": [
    "# Python Comments"
   ]
  },
  {
   "cell_type": "code",
   "execution_count": 27,
   "id": "ab72d75c",
   "metadata": {},
   "outputs": [],
   "source": [
    "# Comments can be used to explain Python code.\n",
    "\n",
    "# Comments can be used to make the code more readable.\n",
    "\n",
    "# Comments can be used to prevent execution when testing code."
   ]
  },
  {
   "cell_type": "markdown",
   "id": "a396a2b4",
   "metadata": {},
   "source": [
    "# Creating a Comment"
   ]
  },
  {
   "cell_type": "code",
   "execution_count": 28,
   "id": "b45355c0",
   "metadata": {},
   "outputs": [],
   "source": [
    "# Comments starts with a #, and Python will ignore them:"
   ]
  },
  {
   "cell_type": "code",
   "execution_count": 29,
   "id": "5c31f8bf",
   "metadata": {},
   "outputs": [
    {
     "name": "stdout",
     "output_type": "stream",
     "text": [
      "Hello, World!\n"
     ]
    }
   ],
   "source": [
    "#This is a comment\n",
    "print(\"Hello, World!\")"
   ]
  },
  {
   "cell_type": "code",
   "execution_count": 30,
   "id": "42b97558",
   "metadata": {},
   "outputs": [
    {
     "name": "stdout",
     "output_type": "stream",
     "text": [
      "Hello, World!\n"
     ]
    }
   ],
   "source": [
    "# Comments can be placed at the end of a line, and Python will ignore the rest of the line:\n",
    "\n",
    "print(\"Hello, World!\") #This is a comment"
   ]
  },
  {
   "cell_type": "markdown",
   "id": "0e90ed43",
   "metadata": {},
   "source": [
    "# Multiline Comments"
   ]
  },
  {
   "cell_type": "code",
   "execution_count": 31,
   "id": "af2c9f42",
   "metadata": {},
   "outputs": [],
   "source": [
    "# Python does not really have a syntax for multiline comments.\n",
    "\n",
    "# To add a multiline comment you could insert a # for each line:"
   ]
  },
  {
   "cell_type": "code",
   "execution_count": 32,
   "id": "e102cde7",
   "metadata": {},
   "outputs": [
    {
     "name": "stdout",
     "output_type": "stream",
     "text": [
      "Hello, World!\n"
     ]
    }
   ],
   "source": [
    "#This is a comment\n",
    "#written in\n",
    "#more than just one line\n",
    "print(\"Hello, World!\")"
   ]
  },
  {
   "cell_type": "code",
   "execution_count": 33,
   "id": "eee3ca34",
   "metadata": {},
   "outputs": [],
   "source": [
    "# Or, not quite as intended, you can use a multiline string.\n",
    "\n",
    "# Since Python will ignore string literals that are not assigned to a variable, you can add a multiline string (triple quotes) in your code, and place your comment inside it:"
   ]
  },
  {
   "cell_type": "code",
   "execution_count": 34,
   "id": "3bf7703c",
   "metadata": {},
   "outputs": [
    {
     "name": "stdout",
     "output_type": "stream",
     "text": [
      "Hello, World!\n"
     ]
    }
   ],
   "source": [
    "\"\"\"\n",
    "This is a comment\n",
    "written in\n",
    "more than just one line\n",
    "\"\"\"\n",
    "print(\"Hello, World!\")"
   ]
  },
  {
   "cell_type": "markdown",
   "id": "9649edd6",
   "metadata": {},
   "source": [
    "# Python Variables"
   ]
  },
  {
   "cell_type": "code",
   "execution_count": 35,
   "id": "696c9487",
   "metadata": {},
   "outputs": [],
   "source": [
    "# Variables are containers for storing data values."
   ]
  },
  {
   "cell_type": "code",
   "execution_count": 39,
   "id": "110295af",
   "metadata": {},
   "outputs": [],
   "source": [
    "# Creating Variables\n",
    "\n",
    "# Python has no command for declaring a variable.\n",
    "\n",
    "# A variable is created the moment you first assign a value to it."
   ]
  },
  {
   "cell_type": "code",
   "execution_count": 41,
   "id": "0b81671a",
   "metadata": {},
   "outputs": [
    {
     "name": "stdout",
     "output_type": "stream",
     "text": [
      "5\n",
      "John\n"
     ]
    }
   ],
   "source": [
    "x = 5\n",
    "y = \"John\"\n",
    "print(x)\n",
    "print(y)"
   ]
  },
  {
   "cell_type": "markdown",
   "id": "44ef50bc",
   "metadata": {},
   "source": [
    "# Get the Type"
   ]
  },
  {
   "cell_type": "code",
   "execution_count": 42,
   "id": "9fc37739",
   "metadata": {},
   "outputs": [
    {
     "name": "stdout",
     "output_type": "stream",
     "text": [
      "<class 'int'>\n",
      "<class 'str'>\n"
     ]
    }
   ],
   "source": [
    "x = 5\n",
    "y = \"John\"\n",
    "print(type(x))\n",
    "print(type(y))"
   ]
  },
  {
   "cell_type": "markdown",
   "id": "01a1675a",
   "metadata": {},
   "source": [
    "# Variable Names"
   ]
  },
  {
   "cell_type": "code",
   "execution_count": 43,
   "id": "9f596d22",
   "metadata": {},
   "outputs": [],
   "source": [
    "# A variable can have a short name (like x and y) or a more descriptive name (age, carname, total_volume). Rules for Python variables:"
   ]
  },
  {
   "cell_type": "code",
   "execution_count": 44,
   "id": "2f29497b",
   "metadata": {},
   "outputs": [],
   "source": [
    "# A variable name must start with a letter or the underscore character\n",
    "# A variable name cannot start with a number\n",
    "# A variable name can only contain alpha-numeric characters and underscores (A-z, 0-9, and _ )\n",
    "# Variable names are case-sensitive (age, Age and AGE are three different variables)"
   ]
  },
  {
   "cell_type": "markdown",
   "id": "5095e8eb",
   "metadata": {},
   "source": [
    "# Legal variable names:"
   ]
  },
  {
   "cell_type": "code",
   "execution_count": 45,
   "id": "c3ad31ae",
   "metadata": {},
   "outputs": [],
   "source": [
    "myvar = \"John\"\n",
    "my_var = \"John\"\n",
    "_my_var = \"John\"\n",
    "myVar = \"John\"\n",
    "MYVAR = \"John\"\n",
    "myvar2 = \"John\""
   ]
  },
  {
   "cell_type": "markdown",
   "id": "3f97983c",
   "metadata": {},
   "source": [
    "# Illegal variable names:"
   ]
  },
  {
   "cell_type": "code",
   "execution_count": null,
   "id": "e9edb397",
   "metadata": {},
   "outputs": [],
   "source": [
    "2myvar = \"John\"\n",
    "my-var = \"John\"\n",
    "my var = \"John\""
   ]
  },
  {
   "cell_type": "markdown",
   "id": "3ef31e77",
   "metadata": {},
   "source": [
    "# Multi Words Variable Names"
   ]
  },
  {
   "cell_type": "markdown",
   "id": "6adeba35",
   "metadata": {},
   "source": [
    "# Camel Case"
   ]
  },
  {
   "cell_type": "code",
   "execution_count": 47,
   "id": "95fec746",
   "metadata": {},
   "outputs": [],
   "source": [
    "# Each word, except the first, starts with a capital letter:"
   ]
  },
  {
   "cell_type": "code",
   "execution_count": 48,
   "id": "f8b8e42d",
   "metadata": {},
   "outputs": [],
   "source": [
    "myVariableName = \"John\""
   ]
  },
  {
   "cell_type": "markdown",
   "id": "74e64a8a",
   "metadata": {},
   "source": [
    "# Pascal Case"
   ]
  },
  {
   "cell_type": "code",
   "execution_count": 49,
   "id": "53ca2d34",
   "metadata": {},
   "outputs": [],
   "source": [
    "# Each word starts with a capital letter:"
   ]
  },
  {
   "cell_type": "code",
   "execution_count": 50,
   "id": "bd921486",
   "metadata": {},
   "outputs": [],
   "source": [
    "MyVariableName = \"John\""
   ]
  },
  {
   "cell_type": "markdown",
   "id": "2ca3410d",
   "metadata": {},
   "source": [
    "# Snake Case"
   ]
  },
  {
   "cell_type": "code",
   "execution_count": 51,
   "id": "b873b52c",
   "metadata": {},
   "outputs": [],
   "source": [
    "# Each word is separated by an underscore character:"
   ]
  },
  {
   "cell_type": "code",
   "execution_count": 53,
   "id": "71055387",
   "metadata": {},
   "outputs": [],
   "source": [
    "my_variable_name = \"John\""
   ]
  },
  {
   "cell_type": "markdown",
   "id": "49c15f74",
   "metadata": {},
   "source": [
    "# Assign Multiple Values"
   ]
  },
  {
   "cell_type": "code",
   "execution_count": 56,
   "id": "173478ca",
   "metadata": {},
   "outputs": [],
   "source": [
    "# Many Values to Multiple Variables"
   ]
  },
  {
   "cell_type": "code",
   "execution_count": 57,
   "id": "b5d8e6b7",
   "metadata": {},
   "outputs": [
    {
     "name": "stdout",
     "output_type": "stream",
     "text": [
      "Orange\n",
      "Banana\n",
      "Cherry\n"
     ]
    }
   ],
   "source": [
    "x, y, z = \"Orange\", \"Banana\", \"Cherry\"\n",
    "print(x)\n",
    "print(y)\n",
    "print(z)"
   ]
  },
  {
   "cell_type": "code",
   "execution_count": 58,
   "id": "a2176c61",
   "metadata": {},
   "outputs": [],
   "source": [
    "# One Value to Multiple Variables"
   ]
  },
  {
   "cell_type": "code",
   "execution_count": 59,
   "id": "bff37c88",
   "metadata": {},
   "outputs": [
    {
     "name": "stdout",
     "output_type": "stream",
     "text": [
      "Orange\n",
      "Orange\n",
      "Orange\n"
     ]
    }
   ],
   "source": [
    "x = y = z = \"Orange\"\n",
    "print(x)\n",
    "print(y)\n",
    "print(z)"
   ]
  },
  {
   "cell_type": "markdown",
   "id": "6af93387",
   "metadata": {},
   "source": [
    "# Output Variables"
   ]
  },
  {
   "cell_type": "code",
   "execution_count": 60,
   "id": "6511163e",
   "metadata": {},
   "outputs": [],
   "source": [
    "# The Python print() function is often used to output variables.\n"
   ]
  },
  {
   "cell_type": "code",
   "execution_count": 61,
   "id": "7cfb1cd0",
   "metadata": {},
   "outputs": [
    {
     "name": "stdout",
     "output_type": "stream",
     "text": [
      "Python is awesome\n"
     ]
    }
   ],
   "source": [
    "x = \"Python is awesome\"\n",
    "print(x)"
   ]
  },
  {
   "cell_type": "code",
   "execution_count": 62,
   "id": "802a9a3b",
   "metadata": {},
   "outputs": [],
   "source": [
    "# In the print() function, you output multiple variables, separated by a comma:"
   ]
  },
  {
   "cell_type": "code",
   "execution_count": 63,
   "id": "6ba740d9",
   "metadata": {},
   "outputs": [
    {
     "name": "stdout",
     "output_type": "stream",
     "text": [
      "Python is awesome\n"
     ]
    }
   ],
   "source": [
    "x = \"Python\"\n",
    "y = \"is\"\n",
    "z = \"awesome\"\n",
    "print(x, y, z)"
   ]
  },
  {
   "cell_type": "markdown",
   "id": "a82aa7b2",
   "metadata": {},
   "source": [
    "# Python Data Types"
   ]
  },
  {
   "cell_type": "code",
   "execution_count": 64,
   "id": "8249e536",
   "metadata": {},
   "outputs": [],
   "source": [
    "# In programming, data type is an important concept."
   ]
  },
  {
   "cell_type": "code",
   "execution_count": 65,
   "id": "bb6ccec0",
   "metadata": {},
   "outputs": [],
   "source": [
    "# Variables can store data of different types, and different types can do different things.\n",
    "\n",
    "# Python has the following data types built-in by default, in these categories:\n"
   ]
  },
  {
   "cell_type": "code",
   "execution_count": 66,
   "id": "e3d7a88c",
   "metadata": {},
   "outputs": [],
   "source": [
    "# Text Type:              \tstr\n",
    "# Numeric Types:          \tint, float, complex\n",
    "# Sequence Types:         \t list, tuple, range\n",
    "# Mapping Type:           \tdict\n",
    "# Set Types:              \tset, frozenset\n",
    "# Boolean Type:           \tbool\n",
    "# Binary Types:           \tbytes, bytearray, memoryview\n",
    "# None Type:              \tNoneType"
   ]
  },
  {
   "cell_type": "markdown",
   "id": "7b85ab89",
   "metadata": {},
   "source": [
    "# Getting the Data Type"
   ]
  },
  {
   "cell_type": "code",
   "execution_count": 67,
   "id": "7534e83b",
   "metadata": {},
   "outputs": [
    {
     "name": "stdout",
     "output_type": "stream",
     "text": [
      "<class 'int'>\n"
     ]
    }
   ],
   "source": [
    "x = 5\n",
    "print(type(x))"
   ]
  },
  {
   "cell_type": "markdown",
   "id": "1370184e",
   "metadata": {},
   "source": [
    "# Python Numbers"
   ]
  },
  {
   "cell_type": "code",
   "execution_count": 68,
   "id": "51e3452f",
   "metadata": {},
   "outputs": [],
   "source": [
    "# There are three numeric types in Python:\n",
    "\n",
    "# int\n",
    "# float\n",
    "# complex"
   ]
  },
  {
   "cell_type": "code",
   "execution_count": 69,
   "id": "1f53f8af",
   "metadata": {},
   "outputs": [
    {
     "name": "stdout",
     "output_type": "stream",
     "text": [
      "<class 'int'>\n",
      "<class 'float'>\n",
      "<class 'complex'>\n"
     ]
    }
   ],
   "source": [
    "x = 1    # int\n",
    "y = 2.8  # float\n",
    "z = 1j   # complex\n",
    "print(type(x))\n",
    "print(type(y))\n",
    "print(type(z))"
   ]
  },
  {
   "cell_type": "markdown",
   "id": "7817e70a",
   "metadata": {},
   "source": [
    "# Type Conversion"
   ]
  },
  {
   "cell_type": "code",
   "execution_count": 70,
   "id": "a3313452",
   "metadata": {},
   "outputs": [],
   "source": [
    "# You can convert from one type to another with the int(), float(), and complex() methods:"
   ]
  },
  {
   "cell_type": "code",
   "execution_count": 71,
   "id": "d0b5abce",
   "metadata": {},
   "outputs": [],
   "source": [
    "x = 1    # int\n",
    "y = 2.8  # float\n",
    "z = 1j   # complex"
   ]
  },
  {
   "cell_type": "code",
   "execution_count": 72,
   "id": "268a1478",
   "metadata": {},
   "outputs": [
    {
     "name": "stdout",
     "output_type": "stream",
     "text": [
      "1.0\n",
      "2\n",
      "(1+0j)\n",
      "<class 'float'>\n",
      "<class 'int'>\n",
      "<class 'complex'>\n"
     ]
    }
   ],
   "source": [
    "#convert from int to float:\n",
    "a = float(x)\n",
    "\n",
    "#convert from float to int:\n",
    "b = int(y)\n",
    "\n",
    "#convert from int to complex:\n",
    "c = complex(x)\n",
    "\n",
    "print(a)\n",
    "print(b)\n",
    "print(c)\n",
    "\n",
    "print(type(a))\n",
    "print(type(b))\n",
    "print(type(c))"
   ]
  },
  {
   "cell_type": "markdown",
   "id": "40888c36",
   "metadata": {},
   "source": [
    "# Python Strings"
   ]
  },
  {
   "cell_type": "code",
   "execution_count": 74,
   "id": "631b2619",
   "metadata": {},
   "outputs": [],
   "source": [
    "# Strings in python are surrounded by either single quotation marks, or double quotation marks.\n",
    "\n",
    "# 'hello' is the same as \"hello\"."
   ]
  },
  {
   "cell_type": "code",
   "execution_count": 75,
   "id": "f3ef4861",
   "metadata": {},
   "outputs": [
    {
     "name": "stdout",
     "output_type": "stream",
     "text": [
      "Hello\n",
      "Hello\n"
     ]
    }
   ],
   "source": [
    "print(\"Hello\")\n",
    "print('Hello')"
   ]
  },
  {
   "cell_type": "code",
   "execution_count": 76,
   "id": "03dd6242",
   "metadata": {},
   "outputs": [
    {
     "name": "stdout",
     "output_type": "stream",
     "text": [
      "Hello\n"
     ]
    }
   ],
   "source": [
    "# Assign String to a Variable\n",
    "\n",
    "a = \"Hello\"\n",
    "print(a)"
   ]
  },
  {
   "cell_type": "code",
   "execution_count": 77,
   "id": "3ab56afa",
   "metadata": {},
   "outputs": [
    {
     "name": "stdout",
     "output_type": "stream",
     "text": [
      "13\n"
     ]
    }
   ],
   "source": [
    "# String Length\n",
    "\n",
    "a = \"Hello, World!\"\n",
    "print(len(a))\n"
   ]
  },
  {
   "cell_type": "code",
   "execution_count": 78,
   "id": "60242ba6",
   "metadata": {},
   "outputs": [],
   "source": [
    "# Slicing Strings\n",
    "\n",
    "# You can return a range of characters by using the slice syntax.\n",
    "\n",
    "# Specify the start index and the end index, separated by a colon, to return a part of the string."
   ]
  },
  {
   "cell_type": "code",
   "execution_count": 79,
   "id": "3d582b10",
   "metadata": {},
   "outputs": [
    {
     "name": "stdout",
     "output_type": "stream",
     "text": [
      "ello\n"
     ]
    }
   ],
   "source": [
    "b= \"Hello World!\"\n",
    "print(a[1:5])"
   ]
  },
  {
   "cell_type": "code",
   "execution_count": 80,
   "id": "08b67e0f",
   "metadata": {},
   "outputs": [
    {
     "name": "stdout",
     "output_type": "stream",
     "text": [
      "Hello\n"
     ]
    }
   ],
   "source": [
    "# Get the characters from the start to position 5 (not included):\n",
    "\n",
    "\n",
    "b = \"Hello, World!\"\n",
    "print(b[:5])"
   ]
  },
  {
   "cell_type": "code",
   "execution_count": 81,
   "id": "d81c4691",
   "metadata": {},
   "outputs": [
    {
     "name": "stdout",
     "output_type": "stream",
     "text": [
      "llo, World!\n"
     ]
    }
   ],
   "source": [
    "# Get the characters from position 2, and all the way to the end:\n",
    "\n",
    "b = \"Hello, World!\"\n",
    "print(b[2:])"
   ]
  },
  {
   "cell_type": "code",
   "execution_count": 82,
   "id": "0a5b2feb",
   "metadata": {},
   "outputs": [
    {
     "name": "stdout",
     "output_type": "stream",
     "text": [
      "H\n",
      "E\n",
      "L\n",
      "L\n",
      "O\n"
     ]
    }
   ],
   "source": [
    "str = \"HELLO\"  \n",
    "print(str[0])  \n",
    "print(str[1])  \n",
    "print(str[2])  \n",
    "print(str[3])  \n",
    "print(str[4]) "
   ]
  },
  {
   "cell_type": "code",
   "execution_count": 83,
   "id": "867ee593",
   "metadata": {},
   "outputs": [
    {
     "name": "stdout",
     "output_type": "stream",
     "text": [
      "JAVATPOINT\n",
      "AVAT\n",
      "VA\n",
      "JAV\n",
      "TPO\n"
     ]
    }
   ],
   "source": [
    "str = \"JAVATPOINT\"  \n",
    "\n",
    "print(str[0:])  \n",
    "\n",
    "print(str[1:5])  \n",
    "\n",
    "print(str[2:4])  \n",
    "\n",
    "print(str[:3])  \n",
    "\n",
    "print(str[4:7])  "
   ]
  },
  {
   "cell_type": "code",
   "execution_count": 85,
   "id": "2783cad1",
   "metadata": {},
   "outputs": [
    {
     "name": "stdout",
     "output_type": "stream",
     "text": [
      "T\n",
      "I\n",
      "NT\n",
      "OIN\n",
      "ATPOI\n",
      "TNIOPTAVAJ\n"
     ]
    }
   ],
   "source": [
    "str = 'JAVATPOINT'  \n",
    "print(str[-1])  \n",
    "print(str[-3])  \n",
    "print(str[-2:])  \n",
    "print(str[-4:-1])  \n",
    "print(str[-7:-2])  \n",
    "# Reversing the given string  \n",
    "print(str[::-1])  "
   ]
  },
  {
   "cell_type": "code",
   "execution_count": 87,
   "id": "c5218110",
   "metadata": {},
   "outputs": [
    {
     "name": "stdout",
     "output_type": "stream",
     "text": [
      "Hello World\n"
     ]
    }
   ],
   "source": [
    "# String Concatenation\n",
    "\n",
    "a = \"Hello\"\n",
    "b = \"World\"\n",
    "c = a +\" \" +b\n",
    "print(c)"
   ]
  },
  {
   "cell_type": "code",
   "execution_count": null,
   "id": "348f448a",
   "metadata": {},
   "outputs": [],
   "source": [
    "#  Format - Strings\n",
    "\n",
    "# As we learned in the Python Variables chapter, we cannot combine strings and numbers like this:\n",
    "age = 36\n",
    "txt = \"My name is John, I am \" + age\n",
    "print(txt)"
   ]
  },
  {
   "cell_type": "code",
   "execution_count": 89,
   "id": "a206d242",
   "metadata": {},
   "outputs": [],
   "source": [
    "# But we can combine strings and numbers by using the format() method!\n",
    "\n",
    "# The format() method takes the passed arguments, formats them, and places them in the string where the placeholders {} are:"
   ]
  },
  {
   "cell_type": "code",
   "execution_count": 91,
   "id": "647e788e",
   "metadata": {},
   "outputs": [
    {
     "name": "stdout",
     "output_type": "stream",
     "text": [
      "My name is Hemant and I am 32\n"
     ]
    }
   ],
   "source": [
    "age = 32\n",
    "txt = \"My name is Hemant and I am {}\"\n",
    "print(txt.format(age))"
   ]
  },
  {
   "cell_type": "code",
   "execution_count": 92,
   "id": "fa93d972",
   "metadata": {},
   "outputs": [
    {
     "name": "stdout",
     "output_type": "stream",
     "text": [
      "I want to 3 Piece of item 567 for 49.95 dollars.\n"
     ]
    }
   ],
   "source": [
    "# The format() method takes unlimited number of arguments, and are placed into the respective placeholders:\n",
    "\n",
    "quantity = 3\n",
    "itemno = 567\n",
    "price = 49.95\n",
    "\n",
    "myorder = \"I want to {} Piece of item {} for {} dollars.\"\n",
    "print(myorder.format(quantity,itemno,price))"
   ]
  },
  {
   "cell_type": "code",
   "execution_count": 93,
   "id": "8a3ba19e",
   "metadata": {},
   "outputs": [
    {
     "name": "stdout",
     "output_type": "stream",
     "text": [
      "I want to pay 49.95 dollars for 3 pieces of item 567.\n"
     ]
    }
   ],
   "source": [
    "# You can use index numbers {0} to be sure the arguments are placed in the correct placeholders:\n",
    "\n",
    "quantity = 3\n",
    "itemno = 567\n",
    "price = 49.95\n",
    "myorder = \"I want to pay {2} dollars for {0} pieces of item {1}.\"\n",
    "print(myorder.format(quantity, itemno, price))"
   ]
  },
  {
   "cell_type": "code",
   "execution_count": 94,
   "id": "e4c6f121",
   "metadata": {},
   "outputs": [
    {
     "name": "stdout",
     "output_type": "stream",
     "text": [
      "The price is 49 dollars\n"
     ]
    }
   ],
   "source": [
    "price = 49\n",
    "txt = \"The price is {} dollars\"\n",
    "print(txt.format(price))"
   ]
  },
  {
   "cell_type": "code",
   "execution_count": 95,
   "id": "0f3566a6",
   "metadata": {},
   "outputs": [
    {
     "name": "stdout",
     "output_type": "stream",
     "text": [
      "His name is Hemant. Hemant is 32 years old.\n"
     ]
    }
   ],
   "source": [
    "age = 32\n",
    "name = \"Hemant\"\n",
    "txt = \"His name is {1}. {1} is {0} years old.\"\n",
    "print(txt.format(age, name))"
   ]
  },
  {
   "cell_type": "code",
   "execution_count": 96,
   "id": "89b35189",
   "metadata": {},
   "outputs": [
    {
     "name": "stdout",
     "output_type": "stream",
     "text": [
      "I have a Ford, it is a Mustang.\n"
     ]
    }
   ],
   "source": [
    "myorder = \"I have a {carname}, it is a {model}.\"\n",
    "print(myorder.format(carname = \"Ford\", model = \"Mustang\"))\n"
   ]
  },
  {
   "cell_type": "code",
   "execution_count": 98,
   "id": "e74f8ae7",
   "metadata": {},
   "outputs": [],
   "source": [
    "# String Methods\n",
    "\n",
    "# Python has a set of built-in methods that you can use on strings."
   ]
  },
  {
   "cell_type": "code",
   "execution_count": 99,
   "id": "16bc7be1",
   "metadata": {},
   "outputs": [
    {
     "name": "stdout",
     "output_type": "stream",
     "text": [
      "Hello, and welcome to my world.\n"
     ]
    }
   ],
   "source": [
    "# 1. capitalize():-Converts the first character to upper case\n",
    "\n",
    "txt = \"hello, and welcome to my world.\"\n",
    "\n",
    "x = txt.capitalize()\n",
    "\n",
    "print (x)"
   ]
  },
  {
   "cell_type": "code",
   "execution_count": 100,
   "id": "42f4e459",
   "metadata": {},
   "outputs": [
    {
     "name": "stdout",
     "output_type": "stream",
     "text": [
      "hello, and welcome to my world!\n"
     ]
    }
   ],
   "source": [
    "# 2. casefold():- Converts string into lower case\n",
    "\n",
    "txt = \"Hello, And Welcome To My World!\"\n",
    "\n",
    "x = txt.casefold()\n",
    "\n",
    "print(x)"
   ]
  },
  {
   "cell_type": "code",
   "execution_count": 101,
   "id": "9c01acda",
   "metadata": {},
   "outputs": [
    {
     "name": "stdout",
     "output_type": "stream",
     "text": [
      "       banana       \n"
     ]
    }
   ],
   "source": [
    "# 3. center():- Returns a centered string\n",
    "\n",
    "txt = \"banana\"\n",
    "\n",
    "x = txt.center(20)\n",
    "\n",
    "print(x)"
   ]
  },
  {
   "cell_type": "code",
   "execution_count": 102,
   "id": "83205047",
   "metadata": {},
   "outputs": [
    {
     "name": "stdout",
     "output_type": "stream",
     "text": [
      "2\n"
     ]
    }
   ],
   "source": [
    "# 4. count():- Returns the number of times a specified value occurs in a string\n",
    "\n",
    "txt = \"I love apples, apple are my favorite fruit\"\n",
    "\n",
    "x = txt.count(\"apple\")\n",
    "\n",
    "print(x)"
   ]
  },
  {
   "cell_type": "code",
   "execution_count": 103,
   "id": "43029e72",
   "metadata": {},
   "outputs": [
    {
     "name": "stdout",
     "output_type": "stream",
     "text": [
      "b'My name is St\\xc3\\xa5le'\n"
     ]
    }
   ],
   "source": [
    "# 5. encode():- Returns an encoded version of the string\n",
    "\n",
    "txt = \"My name is Ståle\"\n",
    "\n",
    "x = txt.encode()\n",
    "\n",
    "print(x)"
   ]
  },
  {
   "cell_type": "code",
   "execution_count": 1,
   "id": "326dd297",
   "metadata": {},
   "outputs": [
    {
     "name": "stdout",
     "output_type": "stream",
     "text": [
      "True\n"
     ]
    }
   ],
   "source": [
    "# 6 endswith():- Returns true if the string ends with the specified value\n",
    "txt = \"Hello, welcome to my world.\"\n",
    "\n",
    "x = txt.endswith(\".\")\n",
    "\n",
    "print(x)"
   ]
  },
  {
   "cell_type": "code",
   "execution_count": 2,
   "id": "8c96c3ac",
   "metadata": {},
   "outputs": [
    {
     "name": "stdout",
     "output_type": "stream",
     "text": [
      "H e l l o\n"
     ]
    }
   ],
   "source": [
    "# 7. expandtabs():- Sets the tab size of the string\n",
    "\n",
    "txt = \"H\\te\\tl\\tl\\to\"\n",
    "\n",
    "x =  txt.expandtabs(2)\n",
    "\n",
    "print(x)"
   ]
  },
  {
   "cell_type": "code",
   "execution_count": 3,
   "id": "d6796188",
   "metadata": {},
   "outputs": [
    {
     "name": "stdout",
     "output_type": "stream",
     "text": [
      "7\n"
     ]
    }
   ],
   "source": [
    "# 8. find():- Searches the string for a specified value and returns the position of where it was found\n",
    "\n",
    "txt = \"Hello, welcome to my world.\"\n",
    "\n",
    "x = txt.find(\"welcome\")\n",
    "\n",
    "print(x)"
   ]
  },
  {
   "cell_type": "code",
   "execution_count": 4,
   "id": "6699de98",
   "metadata": {},
   "outputs": [
    {
     "name": "stdout",
     "output_type": "stream",
     "text": [
      "7\n"
     ]
    }
   ],
   "source": [
    "# 9.index():- Searches the string for a specified value and returns the position of where it was found\n",
    "\n",
    "txt = \"Hello, welcome to my world.\"\n",
    "\n",
    "x = txt.index(\"welcome\")\n",
    "\n",
    "print(x)"
   ]
  },
  {
   "cell_type": "code",
   "execution_count": 5,
   "id": "f42694db",
   "metadata": {},
   "outputs": [
    {
     "name": "stdout",
     "output_type": "stream",
     "text": [
      "True\n"
     ]
    }
   ],
   "source": [
    "# 10. isalnum():- Returns True if all characters in the string are alphanumeric\n",
    "\n",
    "txt = \"Company12\"\n",
    "\n",
    "x = txt.isalnum()\n",
    "\n",
    "print(x)"
   ]
  },
  {
   "cell_type": "code",
   "execution_count": 6,
   "id": "9100b1ca",
   "metadata": {},
   "outputs": [
    {
     "name": "stdout",
     "output_type": "stream",
     "text": [
      "True\n"
     ]
    }
   ],
   "source": [
    "# 11. isalpha():- Returns True if all characters in the string are in the alphabet\n",
    "\n",
    "txt = \"CompanyX\"\n",
    "\n",
    "x = txt.isalpha()\n",
    "\n",
    "print(x)"
   ]
  },
  {
   "cell_type": "code",
   "execution_count": 7,
   "id": "1a0237d2",
   "metadata": {},
   "outputs": [
    {
     "name": "stdout",
     "output_type": "stream",
     "text": [
      "True\n"
     ]
    }
   ],
   "source": [
    "# 12. isdigit():- Returns True if all characters in the string are digits\n",
    "\n",
    "txt = \"50800\"\n",
    "\n",
    "x = txt.isdigit()\n",
    "\n",
    "print(x)"
   ]
  },
  {
   "cell_type": "code",
   "execution_count": 8,
   "id": "eba0fabc",
   "metadata": {},
   "outputs": [
    {
     "name": "stdout",
     "output_type": "stream",
     "text": [
      "John#Peter#Vicky\n"
     ]
    }
   ],
   "source": [
    "# 13. join():- Joins the elements of an iterable to the end of the string\n",
    "\n",
    "myTuple = (\"John\", \"Peter\", \"Vicky\")\n",
    "\n",
    "x = \"#\".join(myTuple)\n",
    "\n",
    "print(x)"
   ]
  },
  {
   "cell_type": "code",
   "execution_count": 9,
   "id": "5453ed0b",
   "metadata": {},
   "outputs": [
    {
     "name": "stdout",
     "output_type": "stream",
     "text": [
      "hello my friends\n"
     ]
    }
   ],
   "source": [
    "# 14. lower():- Converts a string into lower case\n",
    "\n",
    "txt = \"Hello my FRIENDS\"\n",
    "\n",
    "x = txt.lower()\n",
    "\n",
    "print(x)"
   ]
  },
  {
   "cell_type": "code",
   "execution_count": 10,
   "id": "9db68d61",
   "metadata": {},
   "outputs": [
    {
     "name": "stdout",
     "output_type": "stream",
     "text": [
      "I like apples\n"
     ]
    }
   ],
   "source": [
    "# 15. replace():- Returns a string where a specified value is replaced with a specified value\n",
    "\n",
    "txt = \"I like bananas\"\n",
    "\n",
    "x = txt.replace(\"bananas\", \"apples\")\n",
    "\n",
    "print(x)"
   ]
  },
  {
   "cell_type": "code",
   "execution_count": 11,
   "id": "32d2500e",
   "metadata": {},
   "outputs": [
    {
     "name": "stdout",
     "output_type": "stream",
     "text": [
      "['welcome', 'to', 'the', 'jungle']\n"
     ]
    }
   ],
   "source": [
    "# 16 . split():- Splits the string at the specified separator, and returns a list\n",
    "\n",
    "txt = \"welcome to the jungle\"\n",
    "\n",
    "x = txt.split()\n",
    "\n",
    "print(x)"
   ]
  },
  {
   "cell_type": "code",
   "execution_count": 12,
   "id": "cb561a7d",
   "metadata": {},
   "outputs": [
    {
     "name": "stdout",
     "output_type": "stream",
     "text": [
      "['apple', 'banana', 'cherry']\n"
     ]
    }
   ],
   "source": [
    "# 17 . rsplit():- Splits the string at the specified separator, and returns a list\n",
    "\n",
    "txt = \"apple, banana, cherry\"\n",
    "\n",
    "x = txt.rsplit(\", \")\n",
    "\n",
    "print(x)"
   ]
  },
  {
   "cell_type": "code",
   "execution_count": 13,
   "id": "fa0d85fe",
   "metadata": {},
   "outputs": [
    {
     "name": "stdout",
     "output_type": "stream",
     "text": [
      "of all fruits banana is my favorite\n"
     ]
    }
   ],
   "source": [
    "# 18 . strip():- Returns a trimmed version of the string\n",
    "\n",
    "txt = \"     banana     \"\n",
    "\n",
    "x = txt.strip()\n",
    "\n",
    "print(\"of all fruits\", x, \"is my favorite\")"
   ]
  },
  {
   "cell_type": "code",
   "execution_count": 14,
   "id": "e9552cde",
   "metadata": {},
   "outputs": [
    {
     "name": "stdout",
     "output_type": "stream",
     "text": [
      "Welcome To My World\n"
     ]
    }
   ],
   "source": [
    "# 19. title():- Converts the first character of each word to upper case\n",
    "\n",
    "txt = \"Welcome to my world\"\n",
    "\n",
    "x = txt.title()\n",
    "\n",
    "print(x)"
   ]
  },
  {
   "cell_type": "code",
   "execution_count": 15,
   "id": "d3815a89",
   "metadata": {},
   "outputs": [
    {
     "name": "stdout",
     "output_type": "stream",
     "text": [
      "HELLO MY FRIENDS\n"
     ]
    }
   ],
   "source": [
    "# 20. upper():- Converts a string into upper case\n",
    "\n",
    "txt = \"Hello my friends\"\n",
    "\n",
    "x = txt.upper()\n",
    "\n",
    "print(x)\n"
   ]
  },
  {
   "cell_type": "markdown",
   "id": "105eccae",
   "metadata": {},
   "source": [
    "# Python Boolean"
   ]
  },
  {
   "cell_type": "code",
   "execution_count": 1,
   "id": "05766b1e",
   "metadata": {},
   "outputs": [],
   "source": [
    "# Booleans represent one of two values: True or False.\n",
    "\n",
    "# In programming you often need to know if an expression is True or False.\n",
    "\n",
    "# You can evaluate any expression in Python, and get one of two answers, True or False."
   ]
  },
  {
   "cell_type": "code",
   "execution_count": 2,
   "id": "184488f5",
   "metadata": {},
   "outputs": [
    {
     "name": "stdout",
     "output_type": "stream",
     "text": [
      "True\n",
      "False\n",
      "False\n"
     ]
    }
   ],
   "source": [
    "print(10 > 9)\n",
    "print(10 == 9)\n",
    "print(10 < 9)"
   ]
  },
  {
   "cell_type": "code",
   "execution_count": 3,
   "id": "7d7ed9c5",
   "metadata": {},
   "outputs": [
    {
     "name": "stdout",
     "output_type": "stream",
     "text": [
      "True\n",
      "True\n"
     ]
    }
   ],
   "source": [
    "print(bool(\"Hello\"))\n",
    "print(bool(15))"
   ]
  },
  {
   "cell_type": "markdown",
   "id": "a5de4f22",
   "metadata": {},
   "source": [
    "# Python Operators"
   ]
  },
  {
   "cell_type": "code",
   "execution_count": 4,
   "id": "f256f51a",
   "metadata": {},
   "outputs": [],
   "source": [
    "# Operators are used to perform operations on variables and values.\n",
    "\n",
    "# Python divides the operators in the following groups:\n",
    "\n",
    "# Arithmetic operators\n",
    "# Assignment operators\n",
    "# Comparison operators\n",
    "# Logical operators\n",
    "# Identity operators\n",
    "# Membership operators\n",
    "# Bitwise operators"
   ]
  },
  {
   "cell_type": "markdown",
   "id": "ae4ee982",
   "metadata": {},
   "source": [
    "# Python Arithmetic Operators"
   ]
  },
  {
   "cell_type": "code",
   "execution_count": 5,
   "id": "a8d49170",
   "metadata": {},
   "outputs": [],
   "source": [
    "# Arithmetic operators are used with numeric values to perform common mathematical operations:\n",
    "\n",
    "# Operator             \tName\n",
    "# +                    \tAddition\n",
    "# -                    \tSubtraction\n",
    "# *                    \tMultiplication\n",
    "# /                    \tDivision\n",
    "# %                    \tModulus\n",
    "# **                   \tExponentiation\n",
    "# //                   \tFloor division"
   ]
  },
  {
   "cell_type": "code",
   "execution_count": 6,
   "id": "8f2d8ff1",
   "metadata": {},
   "outputs": [
    {
     "name": "stdout",
     "output_type": "stream",
     "text": [
      "8\n"
     ]
    }
   ],
   "source": [
    "# + Addition\n",
    "\n",
    "x = 5\n",
    "y = 3\n",
    "\n",
    "\n",
    "print(x + y)"
   ]
  },
  {
   "cell_type": "code",
   "execution_count": 7,
   "id": "b2a60940",
   "metadata": {},
   "outputs": [
    {
     "name": "stdout",
     "output_type": "stream",
     "text": [
      "2\n"
     ]
    }
   ],
   "source": [
    "# -Subtraction\n",
    "\n",
    "x = 5\n",
    "y = 3\n",
    "\n",
    "print(x - y)"
   ]
  },
  {
   "cell_type": "code",
   "execution_count": 8,
   "id": "6f0604a8",
   "metadata": {},
   "outputs": [
    {
     "name": "stdout",
     "output_type": "stream",
     "text": [
      "15\n"
     ]
    }
   ],
   "source": [
    "# * Multiplication\n",
    "x = 5\n",
    "y = 3\n",
    "\n",
    "print(x * y)\n"
   ]
  },
  {
   "cell_type": "code",
   "execution_count": 9,
   "id": "d24f9e4c",
   "metadata": {},
   "outputs": [
    {
     "name": "stdout",
     "output_type": "stream",
     "text": [
      "1.6666666666666667\n"
     ]
    }
   ],
   "source": [
    "# / Division\n",
    "x = 5\n",
    "y = 3\n",
    "\n",
    "print(x / y)\n",
    "\n"
   ]
  },
  {
   "cell_type": "code",
   "execution_count": 10,
   "id": "3b9938ee",
   "metadata": {},
   "outputs": [
    {
     "name": "stdout",
     "output_type": "stream",
     "text": [
      "2\n"
     ]
    }
   ],
   "source": [
    "# % Modulus\n",
    "\n",
    "x = 5\n",
    "y = 3\n",
    "\n",
    "print(x % y)"
   ]
  },
  {
   "cell_type": "code",
   "execution_count": 11,
   "id": "db731056",
   "metadata": {},
   "outputs": [
    {
     "name": "stdout",
     "output_type": "stream",
     "text": [
      "125\n"
     ]
    }
   ],
   "source": [
    "# ** Exponentiation\t\n",
    "\n",
    "x = 5\n",
    "y = 3\n",
    "\n",
    "print(x ** y)"
   ]
  },
  {
   "cell_type": "code",
   "execution_count": 12,
   "id": "22a79efe",
   "metadata": {},
   "outputs": [
    {
     "name": "stdout",
     "output_type": "stream",
     "text": [
      "1\n"
     ]
    }
   ],
   "source": [
    "# // Floor division\n",
    "\n",
    "\n",
    "x = 5\n",
    "y = 3\n",
    "\n",
    "print(x // y)\n"
   ]
  },
  {
   "cell_type": "markdown",
   "id": "20028c82",
   "metadata": {},
   "source": [
    "# Python Assignment Operators"
   ]
  },
  {
   "cell_type": "code",
   "execution_count": 13,
   "id": "aa64c175",
   "metadata": {},
   "outputs": [],
   "source": [
    "# Assignment operators are used to assign values to variables:\n",
    "\n",
    "# Operator                  \n",
    "# =\n",
    "# +=\n",
    "# -=\n",
    "# *=\n",
    "# /=\n",
    "# %=\n",
    "# //=\n",
    "# **=\n",
    "# &=\n",
    "# |=\n",
    "# ^=\n",
    "# >>=\n",
    "# <<="
   ]
  },
  {
   "cell_type": "code",
   "execution_count": 14,
   "id": "dc60d98b",
   "metadata": {},
   "outputs": [
    {
     "name": "stdout",
     "output_type": "stream",
     "text": [
      "5\n"
     ]
    }
   ],
   "source": [
    "x = 5\n",
    "\n",
    "print(x)"
   ]
  },
  {
   "cell_type": "code",
   "execution_count": 15,
   "id": "b0cc93b3",
   "metadata": {},
   "outputs": [
    {
     "name": "stdout",
     "output_type": "stream",
     "text": [
      "8\n"
     ]
    }
   ],
   "source": [
    "x = 5\n",
    "\n",
    "x += 3\n",
    "\n",
    "print(x)"
   ]
  },
  {
   "cell_type": "code",
   "execution_count": 16,
   "id": "be7b28c0",
   "metadata": {},
   "outputs": [
    {
     "name": "stdout",
     "output_type": "stream",
     "text": [
      "2\n"
     ]
    }
   ],
   "source": [
    "x = 5\n",
    "\n",
    "x -= 3\n",
    "\n",
    "print(x)"
   ]
  },
  {
   "cell_type": "code",
   "execution_count": 17,
   "id": "8d4f6f07",
   "metadata": {},
   "outputs": [
    {
     "name": "stdout",
     "output_type": "stream",
     "text": [
      "15\n"
     ]
    }
   ],
   "source": [
    "x = 5\n",
    "\n",
    "x *= 3\n",
    "\n",
    "print(x)\n"
   ]
  },
  {
   "cell_type": "code",
   "execution_count": 18,
   "id": "df4cc3f9",
   "metadata": {},
   "outputs": [
    {
     "name": "stdout",
     "output_type": "stream",
     "text": [
      "1.6666666666666667\n"
     ]
    }
   ],
   "source": [
    "x = 5\n",
    "\n",
    "x /= 3\n",
    "\n",
    "print(x)\n"
   ]
  },
  {
   "cell_type": "code",
   "execution_count": 19,
   "id": "bf6836e6",
   "metadata": {},
   "outputs": [
    {
     "name": "stdout",
     "output_type": "stream",
     "text": [
      "2\n"
     ]
    }
   ],
   "source": [
    "x = 5\n",
    "\n",
    "x%=3\n",
    "\n",
    "print(x)\n"
   ]
  },
  {
   "cell_type": "code",
   "execution_count": 20,
   "id": "d745135e",
   "metadata": {},
   "outputs": [
    {
     "name": "stdout",
     "output_type": "stream",
     "text": [
      "1\n"
     ]
    }
   ],
   "source": [
    "x = 5\n",
    "\n",
    "x//=3\n",
    "\n",
    "print(x)"
   ]
  },
  {
   "cell_type": "code",
   "execution_count": 21,
   "id": "b6dc7fea",
   "metadata": {},
   "outputs": [
    {
     "name": "stdout",
     "output_type": "stream",
     "text": [
      "125\n"
     ]
    }
   ],
   "source": [
    "x = 5\n",
    "\n",
    "x **= 3\n",
    "\n",
    "print(x)"
   ]
  },
  {
   "cell_type": "markdown",
   "id": "7d7829f4",
   "metadata": {},
   "source": [
    "# Python Comparison Operators"
   ]
  },
  {
   "cell_type": "code",
   "execution_count": 22,
   "id": "0ed41bfa",
   "metadata": {},
   "outputs": [],
   "source": [
    "# Comparison operators are used to compare two values:\n",
    "\n",
    "# Operator                               \tName\n",
    "# ==                                     \tEqual\n",
    "# !=                                     \tNot equal\n",
    "# >                                      \tGreater than\n",
    "# <                                      \tLess than\n",
    "# >=                                     \tGreater than or equal to\n",
    "# <=                                     \tLess than or equal to"
   ]
  },
  {
   "cell_type": "code",
   "execution_count": 23,
   "id": "f4ea3ae6",
   "metadata": {},
   "outputs": [
    {
     "name": "stdout",
     "output_type": "stream",
     "text": [
      "False\n"
     ]
    }
   ],
   "source": [
    "x = 5\n",
    "y = 3\n",
    "\n",
    "print(x == y)\n"
   ]
  },
  {
   "cell_type": "code",
   "execution_count": 24,
   "id": "99d59ea3",
   "metadata": {},
   "outputs": [
    {
     "name": "stdout",
     "output_type": "stream",
     "text": [
      "True\n"
     ]
    }
   ],
   "source": [
    "x = 5\n",
    "y = 3\n",
    "\n",
    "print(x != y)"
   ]
  },
  {
   "cell_type": "code",
   "execution_count": 25,
   "id": "7cae7c95",
   "metadata": {},
   "outputs": [
    {
     "name": "stdout",
     "output_type": "stream",
     "text": [
      "True\n"
     ]
    }
   ],
   "source": [
    "x = 5\n",
    "y = 3\n",
    "\n",
    "print(x > y)"
   ]
  },
  {
   "cell_type": "code",
   "execution_count": 26,
   "id": "bfdc882e",
   "metadata": {},
   "outputs": [
    {
     "name": "stdout",
     "output_type": "stream",
     "text": [
      "False\n"
     ]
    }
   ],
   "source": [
    "x = 5\n",
    "y = 3\n",
    "\n",
    "print(x < y)"
   ]
  },
  {
   "cell_type": "code",
   "execution_count": 27,
   "id": "d98a2d88",
   "metadata": {},
   "outputs": [
    {
     "name": "stdout",
     "output_type": "stream",
     "text": [
      "True\n"
     ]
    }
   ],
   "source": [
    "x = 5\n",
    "y = 3\n",
    "\n",
    "print(x >= y)"
   ]
  },
  {
   "cell_type": "code",
   "execution_count": 28,
   "id": "198f7b40",
   "metadata": {},
   "outputs": [
    {
     "name": "stdout",
     "output_type": "stream",
     "text": [
      "False\n"
     ]
    }
   ],
   "source": [
    "x = 5\n",
    "y = 3\n",
    "\n",
    "print(x <= y)"
   ]
  },
  {
   "cell_type": "markdown",
   "id": "41420b18",
   "metadata": {},
   "source": [
    "# Python Logical Operators"
   ]
  },
  {
   "cell_type": "code",
   "execution_count": 29,
   "id": "47d299b9",
   "metadata": {},
   "outputs": [],
   "source": [
    "# Operator                                \tDescription\tExample\tTry it\n",
    "# and                                     \tReturns True if both statements are true\tx < 5 and  x < 10\t\n",
    "# or                                      \tReturns True if one of the statements is true\tx < 5 or x < 4\t\n",
    "# not                                     \tReverse the result, returns False if the result is true"
   ]
  },
  {
   "cell_type": "code",
   "execution_count": 30,
   "id": "a5de3b63",
   "metadata": {},
   "outputs": [
    {
     "name": "stdout",
     "output_type": "stream",
     "text": [
      "True\n"
     ]
    }
   ],
   "source": [
    "x = 5\n",
    "\n",
    "print(x > 3 and x < 10)"
   ]
  },
  {
   "cell_type": "code",
   "execution_count": 31,
   "id": "47bf9324",
   "metadata": {},
   "outputs": [
    {
     "name": "stdout",
     "output_type": "stream",
     "text": [
      "True\n"
     ]
    }
   ],
   "source": [
    "x = 5\n",
    "\n",
    "print(x > 3 or x < 4)"
   ]
  },
  {
   "cell_type": "code",
   "execution_count": 38,
   "id": "9a3382fa",
   "metadata": {},
   "outputs": [
    {
     "name": "stdout",
     "output_type": "stream",
     "text": [
      "False\n"
     ]
    }
   ],
   "source": [
    "x = 5\n",
    "\n",
    "print(not(x > 3 and x < 10))"
   ]
  },
  {
   "cell_type": "markdown",
   "id": "2da4c3a5",
   "metadata": {},
   "source": [
    "# Python Identity Operators"
   ]
  },
  {
   "cell_type": "code",
   "execution_count": 39,
   "id": "f5171432",
   "metadata": {},
   "outputs": [],
   "source": [
    "# Identity operators are used to compare the objects, not if they are equal, but if they are actually the same object, with the same memory location\n",
    "\n",
    "# Operator                               \tDescription\tExample\tTry it\n",
    "# is                                     \tReturns True if both variables are the same object\tx is y\t\n",
    "# is not                                 \tReturns True if both variables are not the same object\tx is not y\t\n"
   ]
  },
  {
   "cell_type": "code",
   "execution_count": 40,
   "id": "13be1a04",
   "metadata": {},
   "outputs": [
    {
     "name": "stdout",
     "output_type": "stream",
     "text": [
      "True\n",
      "False\n",
      "True\n"
     ]
    }
   ],
   "source": [
    "x = [\"apple\", \"banana\"]\n",
    "y = [\"apple\", \"banana\"]\n",
    "z = x\n",
    "\n",
    "print(x is z)\n",
    "\n",
    "print(x is y)\n",
    "\n",
    "print(x == y)\n"
   ]
  },
  {
   "cell_type": "code",
   "execution_count": 41,
   "id": "1f38dc6f",
   "metadata": {},
   "outputs": [
    {
     "name": "stdout",
     "output_type": "stream",
     "text": [
      "False\n",
      "True\n"
     ]
    }
   ],
   "source": [
    "x = [\"apple\", \"banana\"]\n",
    "y = [\"apple\", \"banana\"]\n",
    "z = x\n",
    "\n",
    "print(x is not z)\n",
    "\n",
    "print(x is not y)\n"
   ]
  },
  {
   "cell_type": "markdown",
   "id": "fe4e0a73",
   "metadata": {},
   "source": [
    "# Python Membership Operators"
   ]
  },
  {
   "cell_type": "code",
   "execution_count": 42,
   "id": "0f192d8e",
   "metadata": {},
   "outputs": [],
   "source": [
    "# Membership operators are used to test if a sequence is presented in an object:\n",
    "\n",
    "# Operator                             \tDescription\tExample\tTry it\n",
    "# in                                   \tReturns True if a sequence with the specified value is present in the object\tx in y\t\n",
    "#not in                               \tReturns True if a sequence with the specified value is not present in the object"
   ]
  },
  {
   "cell_type": "code",
   "execution_count": 43,
   "id": "8b607e2b",
   "metadata": {},
   "outputs": [
    {
     "name": "stdout",
     "output_type": "stream",
     "text": [
      "True\n"
     ]
    }
   ],
   "source": [
    "x = [\"apple\", \"banana\"]\n",
    "\n",
    "print(\"banana\" in x)"
   ]
  },
  {
   "cell_type": "code",
   "execution_count": 44,
   "id": "80b7120c",
   "metadata": {},
   "outputs": [
    {
     "name": "stdout",
     "output_type": "stream",
     "text": [
      "True\n"
     ]
    }
   ],
   "source": [
    "x = [\"apple\", \"banana\"]\n",
    "\n",
    "print(\"pineapple\" not in x)"
   ]
  },
  {
   "cell_type": "markdown",
   "id": "a9c0452e",
   "metadata": {},
   "source": [
    "# Python Bitwise Operators"
   ]
  },
  {
   "cell_type": "code",
   "execution_count": 46,
   "id": "03c86d4a",
   "metadata": {},
   "outputs": [
    {
     "ename": "SyntaxError",
     "evalue": "invalid syntax (2977800875.py, line 1)",
     "output_type": "error",
     "traceback": [
      "\u001b[1;36m  Input \u001b[1;32mIn [46]\u001b[1;36m\u001b[0m\n\u001b[1;33m    Bitwise operators are used to compare (binary) numbers:\u001b[0m\n\u001b[1;37m            ^\u001b[0m\n\u001b[1;31mSyntaxError\u001b[0m\u001b[1;31m:\u001b[0m invalid syntax\n"
     ]
    }
   ],
   "source": [
    "Bitwise operators are used to compare (binary) numbers:\n",
    "\n",
    "# Operator                                     \tName                         \tDescription\tExample\tTry it\n",
    "# &                                            \tAND                          \tSets each bit to 1 if both bits are 1\tx & y\t\n",
    "# |                                            \tOR                           \tSets each bit to 1 if one of two bits is 1\tx | y\t\n",
    "# ^                                            \tXOR                          \tSets each bit to 1 if only one of two bits is 1\tx ^ y\t\n",
    "# ~                                            \tNOT                          \tInverts all the bits\t~x\t\n",
    "# <<                                           \tZero fill left shift         \tShift left by pushing zeros in from the right and let the leftmost bits fall off\tx << 2\t\n",
    "#>>                                           \tSigned right shift           \tShift right by pushing copies of the leftmost bit in from the left, and let the rightmost bits fall off  "
   ]
  },
  {
   "cell_type": "code",
   "execution_count": 47,
   "id": "7b5caae5",
   "metadata": {},
   "outputs": [
    {
     "name": "stdout",
     "output_type": "stream",
     "text": [
      "2\n"
     ]
    }
   ],
   "source": [
    "print(6 & 3)\n"
   ]
  },
  {
   "cell_type": "code",
   "execution_count": 48,
   "id": "26487660",
   "metadata": {},
   "outputs": [
    {
     "name": "stdout",
     "output_type": "stream",
     "text": [
      "7\n"
     ]
    }
   ],
   "source": [
    "print(6 | 3)\n"
   ]
  },
  {
   "cell_type": "code",
   "execution_count": 49,
   "id": "e770ac04",
   "metadata": {},
   "outputs": [
    {
     "name": "stdout",
     "output_type": "stream",
     "text": [
      "5\n"
     ]
    }
   ],
   "source": [
    "print(6 ^ 3)\n"
   ]
  },
  {
   "cell_type": "code",
   "execution_count": 50,
   "id": "4d21a0a3",
   "metadata": {},
   "outputs": [
    {
     "name": "stdout",
     "output_type": "stream",
     "text": [
      "-4\n"
     ]
    }
   ],
   "source": [
    "print(~3)"
   ]
  },
  {
   "cell_type": "code",
   "execution_count": 51,
   "id": "a680271a",
   "metadata": {},
   "outputs": [
    {
     "name": "stdout",
     "output_type": "stream",
     "text": [
      "12\n"
     ]
    }
   ],
   "source": [
    "print(3 << 2)\n"
   ]
  },
  {
   "cell_type": "code",
   "execution_count": 52,
   "id": "6ad48945",
   "metadata": {},
   "outputs": [
    {
     "name": "stdout",
     "output_type": "stream",
     "text": [
      "2\n"
     ]
    }
   ],
   "source": [
    "print(8 >> 2)\n"
   ]
  },
  {
   "cell_type": "markdown",
   "id": "f65784ca",
   "metadata": {},
   "source": [
    "# Python Lists"
   ]
  },
  {
   "cell_type": "code",
   "execution_count": 55,
   "id": "05be4585",
   "metadata": {},
   "outputs": [],
   "source": [
    "# Lists are used to store multiple items in a single variable.\n",
    "\n",
    "# Lists are one of 4 built-in data types in Python used to store collections of data, the other 3 are Tuple, Set, and Dictionary, all with different qualities and usage.\n",
    "\n",
    "# Lists are created using square brackets:\n",
    "\n",
    "# List items are ordered, changeable, and allow duplicate values.\n",
    "\n",
    "# List items are indexed, the first item has index [0], the second item has index [1] etc.\n"
   ]
  },
  {
   "cell_type": "code",
   "execution_count": 54,
   "id": "ec0617e2",
   "metadata": {},
   "outputs": [
    {
     "name": "stdout",
     "output_type": "stream",
     "text": [
      "['apple', 'banana', 'cherry']\n"
     ]
    }
   ],
   "source": [
    "thislist = [\"apple\", \"banana\", \"cherry\"]\n",
    "print(thislist)"
   ]
  },
  {
   "cell_type": "code",
   "execution_count": 56,
   "id": "6a7273df",
   "metadata": {},
   "outputs": [
    {
     "name": "stdout",
     "output_type": "stream",
     "text": [
      "['apple', 'banana', 'cherry', 'apple', 'cherry']\n"
     ]
    }
   ],
   "source": [
    "thislist = [\"apple\", \"banana\", \"cherry\", \"apple\", \"cherry\"]\n",
    "print(thislist)"
   ]
  },
  {
   "cell_type": "code",
   "execution_count": 57,
   "id": "622fe627",
   "metadata": {},
   "outputs": [],
   "source": [
    "# List Length\n",
    "\n",
    "# To determine how many items a list has, use the len() function:"
   ]
  },
  {
   "cell_type": "code",
   "execution_count": 58,
   "id": "720946c2",
   "metadata": {},
   "outputs": [
    {
     "name": "stdout",
     "output_type": "stream",
     "text": [
      "3\n"
     ]
    }
   ],
   "source": [
    "thislist = [\"apple\", \"banana\", \"cherry\"]\n",
    "print(len(thislist))"
   ]
  },
  {
   "cell_type": "code",
   "execution_count": 59,
   "id": "e676d27d",
   "metadata": {},
   "outputs": [],
   "source": [
    "# type()\n",
    "\n",
    "# From Python's perspective, lists are defined as objects with the data type 'list':"
   ]
  },
  {
   "cell_type": "code",
   "execution_count": 60,
   "id": "1c3e8e61",
   "metadata": {},
   "outputs": [
    {
     "name": "stdout",
     "output_type": "stream",
     "text": [
      "<class 'list'>\n"
     ]
    }
   ],
   "source": [
    "mylist = [\"apple\", \"banana\", \"cherry\"]\n",
    "print(type(mylist))"
   ]
  },
  {
   "cell_type": "code",
   "execution_count": 62,
   "id": "dc9c86f7",
   "metadata": {},
   "outputs": [],
   "source": [
    "# Access List Items\n",
    "\n",
    "# List items are indexed and you can access them by referring to the index number:"
   ]
  },
  {
   "cell_type": "code",
   "execution_count": 63,
   "id": "82680c2d",
   "metadata": {},
   "outputs": [
    {
     "name": "stdout",
     "output_type": "stream",
     "text": [
      "banana\n"
     ]
    }
   ],
   "source": [
    "thislist = [\"apple\", \"banana\", \"cherry\"]\n",
    "print(thislist[1])"
   ]
  },
  {
   "cell_type": "code",
   "execution_count": 64,
   "id": "4824180e",
   "metadata": {},
   "outputs": [
    {
     "name": "stdout",
     "output_type": "stream",
     "text": [
      "cherry\n"
     ]
    }
   ],
   "source": [
    "thislist = [\"apple\", \"banana\", \"cherry\"]\n",
    "print(thislist[2])"
   ]
  },
  {
   "cell_type": "code",
   "execution_count": 65,
   "id": "dfb31f5f",
   "metadata": {},
   "outputs": [
    {
     "name": "stdout",
     "output_type": "stream",
     "text": [
      "apple\n"
     ]
    }
   ],
   "source": [
    "thislist = [\"apple\", \"banana\", \"cherry\"]\n",
    "print(thislist[0])"
   ]
  },
  {
   "cell_type": "code",
   "execution_count": 66,
   "id": "8f60863b",
   "metadata": {},
   "outputs": [],
   "source": [
    "# Negative Indexing\n",
    "\n",
    "# Negative indexing means start from the end\n",
    "\n",
    "# -1 refers to the last item, -2 refers to the second last item etc."
   ]
  },
  {
   "cell_type": "code",
   "execution_count": 67,
   "id": "1b8c87e2",
   "metadata": {},
   "outputs": [
    {
     "name": "stdout",
     "output_type": "stream",
     "text": [
      "cherry\n"
     ]
    }
   ],
   "source": [
    "thislist = [\"apple\", \"banana\", \"cherry\"]\n",
    "print(thislist[-1])"
   ]
  },
  {
   "cell_type": "code",
   "execution_count": 68,
   "id": "266c0af4",
   "metadata": {},
   "outputs": [
    {
     "name": "stdout",
     "output_type": "stream",
     "text": [
      "banana\n"
     ]
    }
   ],
   "source": [
    "thislist = [\"apple\", \"banana\", \"cherry\"]\n",
    "print(thislist[-2])"
   ]
  },
  {
   "cell_type": "code",
   "execution_count": 69,
   "id": "c5f30afd",
   "metadata": {},
   "outputs": [
    {
     "name": "stdout",
     "output_type": "stream",
     "text": [
      "apple\n"
     ]
    }
   ],
   "source": [
    "thislist = [\"apple\", \"banana\", \"cherry\"]\n",
    "print(thislist[-3])"
   ]
  },
  {
   "cell_type": "code",
   "execution_count": 70,
   "id": "f8bfcc76",
   "metadata": {},
   "outputs": [],
   "source": [
    "# Range of Indexes\n",
    "\n",
    "# You can specify a range of indexes by specifying where to start and where to end the range."
   ]
  },
  {
   "cell_type": "code",
   "execution_count": 71,
   "id": "11ccc61f",
   "metadata": {},
   "outputs": [
    {
     "name": "stdout",
     "output_type": "stream",
     "text": [
      "['cherry', 'orange', 'kiwi']\n"
     ]
    }
   ],
   "source": [
    "thislist = [\"apple\", \"banana\", \"cherry\", \"orange\", \"kiwi\", \"melon\", \"mango\"]\n",
    "print(thislist[2:5])"
   ]
  },
  {
   "cell_type": "code",
   "execution_count": 75,
   "id": "6d75677b",
   "metadata": {},
   "outputs": [
    {
     "name": "stdout",
     "output_type": "stream",
     "text": [
      "['apple', 'banana', 'cherry', 'orange']\n"
     ]
    }
   ],
   "source": [
    "thislist = [\"apple\", \"banana\", \"cherry\", \"orange\", \"kiwi\", \"melon\", \"mango\"]\n",
    "print(thislist[:4])"
   ]
  },
  {
   "cell_type": "code",
   "execution_count": 76,
   "id": "1c104447",
   "metadata": {},
   "outputs": [
    {
     "name": "stdout",
     "output_type": "stream",
     "text": [
      "['cherry', 'orange', 'kiwi', 'melon', 'mango']\n"
     ]
    }
   ],
   "source": [
    "thislist = [\"apple\", \"banana\", \"cherry\", \"orange\", \"kiwi\", \"melon\", \"mango\"]\n",
    "print(thislist[2:])"
   ]
  },
  {
   "cell_type": "code",
   "execution_count": 77,
   "id": "424db084",
   "metadata": {},
   "outputs": [],
   "source": [
    "# Range of Negative Indexes\n",
    "\n",
    "# Specify negative indexes if you want to start the search from the end of the list:"
   ]
  },
  {
   "cell_type": "code",
   "execution_count": 78,
   "id": "8cdeb71f",
   "metadata": {},
   "outputs": [
    {
     "name": "stdout",
     "output_type": "stream",
     "text": [
      "['orange', 'kiwi', 'melon']\n"
     ]
    }
   ],
   "source": [
    "thislist = [\"apple\", \"banana\", \"cherry\", \"orange\", \"kiwi\", \"melon\", \"mango\"]\n",
    "print(thislist[-4:-1])"
   ]
  },
  {
   "cell_type": "code",
   "execution_count": 79,
   "id": "bf11a6cc",
   "metadata": {},
   "outputs": [],
   "source": [
    "# Change List Items\n",
    "\n",
    "# To change the value of a specific item, refer to the index number:"
   ]
  },
  {
   "cell_type": "code",
   "execution_count": 80,
   "id": "193d9347",
   "metadata": {},
   "outputs": [
    {
     "name": "stdout",
     "output_type": "stream",
     "text": [
      "['apple', 'blackcurrent', 'cherry']\n"
     ]
    }
   ],
   "source": [
    "thislist = [\"apple\", \"banana\", \"cherry\"]\n",
    "thislist[1]=\"blackcurrent\"\n",
    "print(thislist)"
   ]
  },
  {
   "cell_type": "code",
   "execution_count": 81,
   "id": "0d55e585",
   "metadata": {},
   "outputs": [],
   "source": [
    "# Change a Range of Item Values\n",
    "\n",
    "# To change the value of items within a specific range, define a list with the new values, and refer to the range of index numbers where you want to insert the new values:"
   ]
  },
  {
   "cell_type": "code",
   "execution_count": 82,
   "id": "4baf05be",
   "metadata": {},
   "outputs": [
    {
     "name": "stdout",
     "output_type": "stream",
     "text": [
      "['apple', 'blackcurrent', 'watermelon', 'orange', 'kiwi', 'mango']\n"
     ]
    }
   ],
   "source": [
    "thislist = [\"apple\", \"banana\", \"cherry\", \"orange\", \"kiwi\", \"mango\"]\n",
    "thislist[1:3]=[\"blackcurrent\",\"watermelon\"]\n",
    "print(thislist)"
   ]
  },
  {
   "cell_type": "code",
   "execution_count": 83,
   "id": "9f16766f",
   "metadata": {},
   "outputs": [],
   "source": [
    "#  List Comprehension\n",
    "\n",
    "# List comprehension offers a shorter syntax when you want to create a new list based on the values of an existing list."
   ]
  },
  {
   "cell_type": "code",
   "execution_count": 84,
   "id": "f08e916e",
   "metadata": {},
   "outputs": [
    {
     "name": "stdout",
     "output_type": "stream",
     "text": [
      "['apple', 'banana', 'mango']\n"
     ]
    }
   ],
   "source": [
    "fruits = [\"apple\", \"banana\", \"cherry\", \"kiwi\", \"mango\"]\n",
    "\n",
    "newlist = []\n",
    "\n",
    "for x in fruits:\n",
    "  if \"a\" in x:\n",
    "    newlist.append(x)\n",
    "\n",
    "print(newlist)"
   ]
  },
  {
   "cell_type": "code",
   "execution_count": 85,
   "id": "f76cf2b1",
   "metadata": {},
   "outputs": [
    {
     "name": "stdout",
     "output_type": "stream",
     "text": [
      "['apple', 'banana', 'mango']\n"
     ]
    }
   ],
   "source": [
    "fruits = [\"apple\", \"banana\", \"cherry\", \"kiwi\", \"mango\"]\n",
    "\n",
    "newlist = [x for x in fruits if \"a\" in x]\n",
    "\n",
    "print(newlist)"
   ]
  },
  {
   "cell_type": "code",
   "execution_count": 86,
   "id": "d0613d74",
   "metadata": {},
   "outputs": [],
   "source": [
    "# List Methods"
   ]
  },
  {
   "cell_type": "code",
   "execution_count": 88,
   "id": "e3a0e80a",
   "metadata": {},
   "outputs": [
    {
     "name": "stdout",
     "output_type": "stream",
     "text": [
      "['apple', 'banana', 'cherry', 'orange']\n"
     ]
    }
   ],
   "source": [
    "# append():- Adds an element at the end of the list\n",
    "\n",
    "\n",
    "fruits = ['apple', 'banana', 'cherry']\n",
    "fruits.append(\"orange\")\n",
    "print(fruits)"
   ]
  },
  {
   "cell_type": "code",
   "execution_count": 89,
   "id": "d8903977",
   "metadata": {},
   "outputs": [
    {
     "name": "stdout",
     "output_type": "stream",
     "text": [
      "[]\n"
     ]
    }
   ],
   "source": [
    "# clear():- Removes all the elements from the list\n",
    "\n",
    "fruits = ['apple', 'banana', 'cherry', 'orange']\n",
    "\n",
    "fruits.clear()\n",
    "print(fruits)"
   ]
  },
  {
   "cell_type": "code",
   "execution_count": 90,
   "id": "44779c2a",
   "metadata": {},
   "outputs": [
    {
     "name": "stdout",
     "output_type": "stream",
     "text": [
      "['apple', 'banana', 'cherry', 'orange']\n"
     ]
    }
   ],
   "source": [
    "# copy():- Returns a copy of the list\n",
    "\n",
    "fruits = ['apple', 'banana', 'cherry', 'orange']\n",
    "\n",
    "x = fruits.copy()\n",
    "\n",
    "print(x)"
   ]
  },
  {
   "cell_type": "code",
   "execution_count": 92,
   "id": "6eabb76e",
   "metadata": {},
   "outputs": [
    {
     "name": "stdout",
     "output_type": "stream",
     "text": [
      "1\n"
     ]
    }
   ],
   "source": [
    "# count():- Returns the number of elements with the specified value\n",
    "\n",
    "fruits = ['apple', 'banana', 'cherry']\n",
    "\n",
    "x = fruits.count(\"cherry\")\n",
    "print(x)"
   ]
  },
  {
   "cell_type": "code",
   "execution_count": 94,
   "id": "0d686439",
   "metadata": {},
   "outputs": [
    {
     "name": "stdout",
     "output_type": "stream",
     "text": [
      "['apple', 'banana', 'cherry', 'Ford', 'BMW', 'Volvo']\n"
     ]
    }
   ],
   "source": [
    "# extend():- Add the elements of a list (or any iterable), to the end of the current list\n",
    "\n",
    "fruits = ['apple', 'banana', 'cherry']\n",
    "\n",
    "cars = ['Ford', 'BMW', 'Volvo']\n",
    "\n",
    "fruits.extend(cars)\n",
    "print(fruits)"
   ]
  },
  {
   "cell_type": "code",
   "execution_count": 96,
   "id": "bade119c",
   "metadata": {},
   "outputs": [
    {
     "name": "stdout",
     "output_type": "stream",
     "text": [
      "2\n"
     ]
    }
   ],
   "source": [
    "# index():- Returns the index of the first element with the specified value\n",
    "\n",
    "fruits = ['apple', 'banana', 'cherry']\n",
    "\n",
    "x = fruits.index(\"cherry\")\n",
    "print(x)"
   ]
  },
  {
   "cell_type": "code",
   "execution_count": 98,
   "id": "7253ed40",
   "metadata": {},
   "outputs": [
    {
     "name": "stdout",
     "output_type": "stream",
     "text": [
      "['apple', 'orange', 'banana', 'cherry']\n"
     ]
    }
   ],
   "source": [
    "# insert():- Adds an element at the specified position\n",
    "\n",
    "fruits = ['apple', 'banana', 'cherry']\n",
    "\n",
    "fruits.insert(1, \"orange\")\n",
    "print(fruits)"
   ]
  },
  {
   "cell_type": "code",
   "execution_count": 99,
   "id": "01d653fd",
   "metadata": {},
   "outputs": [
    {
     "name": "stdout",
     "output_type": "stream",
     "text": [
      "['apple', 'cherry']\n"
     ]
    }
   ],
   "source": [
    "# pop():- Removes the element at the specified position\n",
    "\n",
    "fruits = ['apple', 'banana', 'cherry']\n",
    "\n",
    "fruits.pop(1)\n",
    "\n",
    "print(fruits)"
   ]
  },
  {
   "cell_type": "code",
   "execution_count": 100,
   "id": "20b170f1",
   "metadata": {},
   "outputs": [
    {
     "name": "stdout",
     "output_type": "stream",
     "text": [
      "['apple', 'cherry']\n"
     ]
    }
   ],
   "source": [
    "# remove():- Removes the item with the specified value\n",
    "\n",
    "fruits = ['apple', 'banana', 'cherry']\n",
    "\n",
    "fruits.remove(\"banana\")\n",
    "print(fruits)"
   ]
  },
  {
   "cell_type": "code",
   "execution_count": 101,
   "id": "6413adf3",
   "metadata": {},
   "outputs": [
    {
     "name": "stdout",
     "output_type": "stream",
     "text": [
      "['cherry', 'banana', 'apple']\n"
     ]
    }
   ],
   "source": [
    "# reverse():- Reverses the order of the list\n",
    "\n",
    "fruits = ['apple', 'banana', 'cherry']\n",
    "\n",
    "fruits.reverse()\n",
    "\n",
    "print(fruits)"
   ]
  },
  {
   "cell_type": "code",
   "execution_count": 102,
   "id": "207d9010",
   "metadata": {},
   "outputs": [
    {
     "name": "stdout",
     "output_type": "stream",
     "text": [
      "['BMW', 'Ford', 'Volvo']\n"
     ]
    }
   ],
   "source": [
    "# sort():- Sorts the list\n",
    "\n",
    "cars = ['Ford', 'BMW', 'Volvo']\n",
    "\n",
    "cars.sort()\n",
    "\n",
    "print(cars)"
   ]
  },
  {
   "cell_type": "markdown",
   "id": "9dadc97b",
   "metadata": {},
   "source": [
    "# Python Tuples"
   ]
  },
  {
   "cell_type": "code",
   "execution_count": 103,
   "id": "89d277ca",
   "metadata": {},
   "outputs": [],
   "source": [
    "# Tuples are used to store multiple items in a single variable.\n",
    "\n",
    "# Tuple is one of 4 built-in data types in Python used to store collections of data, the other 3 are List, Set, and Dictionary, all with different qualities and usage.\n",
    "\n",
    "# A tuple is a collection which is ordered and unchangeable.\n",
    "\n",
    "# Tuples are written with round brackets."
   ]
  },
  {
   "cell_type": "code",
   "execution_count": 104,
   "id": "ae3f0132",
   "metadata": {},
   "outputs": [
    {
     "name": "stdout",
     "output_type": "stream",
     "text": [
      "('apple', 'banana', 'cherry')\n"
     ]
    }
   ],
   "source": [
    "thistuple = (\"apple\", \"banana\", \"cherry\")\n",
    "print(thistuple)"
   ]
  },
  {
   "cell_type": "code",
   "execution_count": 105,
   "id": "57e3af3e",
   "metadata": {},
   "outputs": [
    {
     "name": "stdout",
     "output_type": "stream",
     "text": [
      "('apple', 'banana', 'cherry', 'apple', 'cherry')\n"
     ]
    }
   ],
   "source": [
    "thistuple = (\"apple\", \"banana\", \"cherry\", \"apple\", \"cherry\")\n",
    "print(thistuple)"
   ]
  },
  {
   "cell_type": "code",
   "execution_count": 106,
   "id": "9e19efc8",
   "metadata": {},
   "outputs": [],
   "source": [
    "# Tuple Length\n",
    "\n",
    "# To determine how many items a tuple has, use the len() function:"
   ]
  },
  {
   "cell_type": "code",
   "execution_count": 107,
   "id": "93fa8244",
   "metadata": {},
   "outputs": [
    {
     "name": "stdout",
     "output_type": "stream",
     "text": [
      "3\n"
     ]
    }
   ],
   "source": [
    "thistuple = (\"apple\", \"banana\", \"cherry\")\n",
    "print(len(thistuple))"
   ]
  },
  {
   "cell_type": "code",
   "execution_count": 108,
   "id": "07fc39b6",
   "metadata": {},
   "outputs": [],
   "source": [
    "# Access Tuple Items\n",
    "\n",
    "# You can access tuple items by referring to the index number, inside square brackets:"
   ]
  },
  {
   "cell_type": "code",
   "execution_count": 109,
   "id": "bfde8858",
   "metadata": {},
   "outputs": [
    {
     "name": "stdout",
     "output_type": "stream",
     "text": [
      "banana\n"
     ]
    }
   ],
   "source": [
    "thistuple = (\"apple\", \"banana\", \"cherry\")\n",
    "print(thistuple[1])"
   ]
  },
  {
   "cell_type": "code",
   "execution_count": 110,
   "id": "ea63d69c",
   "metadata": {},
   "outputs": [
    {
     "name": "stdout",
     "output_type": "stream",
     "text": [
      "apple\n"
     ]
    }
   ],
   "source": [
    "thistuple = (\"apple\", \"banana\", \"cherry\")\n",
    "print(thistuple[0])"
   ]
  },
  {
   "cell_type": "code",
   "execution_count": 111,
   "id": "56b2b688",
   "metadata": {},
   "outputs": [
    {
     "name": "stdout",
     "output_type": "stream",
     "text": [
      "cherry\n"
     ]
    }
   ],
   "source": [
    "thistuple = (\"apple\", \"banana\", \"cherry\")\n",
    "print(thistuple[2])"
   ]
  },
  {
   "cell_type": "code",
   "execution_count": 112,
   "id": "e493eb5f",
   "metadata": {},
   "outputs": [],
   "source": [
    "# Negative Indexing\n",
    "\n",
    "# Negative indexing means start from the end."
   ]
  },
  {
   "cell_type": "code",
   "execution_count": 113,
   "id": "063ac5a2",
   "metadata": {},
   "outputs": [
    {
     "name": "stdout",
     "output_type": "stream",
     "text": [
      "cherry\n"
     ]
    }
   ],
   "source": [
    "thistuple = (\"apple\", \"banana\", \"cherry\")\n",
    "print(thistuple[-1])"
   ]
  },
  {
   "cell_type": "code",
   "execution_count": 114,
   "id": "4ba85e46",
   "metadata": {},
   "outputs": [],
   "source": [
    "# Range of Indexes\n",
    "\n",
    "# You can specify a range of indexes by specifying where to start and where to end the range."
   ]
  },
  {
   "cell_type": "code",
   "execution_count": 115,
   "id": "3e1f7b08",
   "metadata": {},
   "outputs": [
    {
     "name": "stdout",
     "output_type": "stream",
     "text": [
      "('cherry', 'orange', 'kiwi')\n"
     ]
    }
   ],
   "source": [
    "thistuple = (\"apple\", \"banana\", \"cherry\", \"orange\", \"kiwi\", \"melon\", \"mango\")\n",
    "print(thistuple[2:5])"
   ]
  },
  {
   "cell_type": "code",
   "execution_count": 116,
   "id": "c96f07ca",
   "metadata": {},
   "outputs": [
    {
     "name": "stdout",
     "output_type": "stream",
     "text": [
      "('banana', 'cherry', 'orange', 'kiwi')\n"
     ]
    }
   ],
   "source": [
    "thistuple = (\"apple\", \"banana\", \"cherry\", \"orange\", \"kiwi\", \"melon\", \"mango\")\n",
    "print(thistuple[1:5])"
   ]
  },
  {
   "cell_type": "code",
   "execution_count": 117,
   "id": "764ba91c",
   "metadata": {},
   "outputs": [
    {
     "name": "stdout",
     "output_type": "stream",
     "text": [
      "('orange', 'kiwi')\n"
     ]
    }
   ],
   "source": [
    "thistuple = (\"apple\", \"banana\", \"cherry\", \"orange\", \"kiwi\", \"melon\", \"mango\")\n",
    "print(thistuple[3:5])"
   ]
  },
  {
   "cell_type": "code",
   "execution_count": 118,
   "id": "03537e54",
   "metadata": {},
   "outputs": [
    {
     "name": "stdout",
     "output_type": "stream",
     "text": [
      "('apple', 'banana', 'cherry', 'orange')\n"
     ]
    }
   ],
   "source": [
    "thistuple = (\"apple\", \"banana\", \"cherry\", \"orange\", \"kiwi\", \"melon\", \"mango\")\n",
    "print(thistuple[:4])"
   ]
  },
  {
   "cell_type": "code",
   "execution_count": 119,
   "id": "e2e8b780",
   "metadata": {},
   "outputs": [
    {
     "name": "stdout",
     "output_type": "stream",
     "text": [
      "('kiwi', 'melon', 'mango')\n"
     ]
    }
   ],
   "source": [
    "thistuple = (\"apple\", \"banana\", \"cherry\", \"orange\", \"kiwi\", \"melon\", \"mango\")\n",
    "print(thistuple[4:])"
   ]
  },
  {
   "cell_type": "code",
   "execution_count": 120,
   "id": "0114eb91",
   "metadata": {},
   "outputs": [],
   "source": [
    "# Range of Negative Indexes\n",
    "# Specify negative indexes if you want to start the search from the end of the tuple:"
   ]
  },
  {
   "cell_type": "code",
   "execution_count": 121,
   "id": "a02c2011",
   "metadata": {},
   "outputs": [
    {
     "name": "stdout",
     "output_type": "stream",
     "text": [
      "('orange', 'kiwi', 'melon')\n"
     ]
    }
   ],
   "source": [
    "thistuple = (\"apple\", \"banana\", \"cherry\", \"orange\", \"kiwi\", \"melon\", \"mango\")\n",
    "print(thistuple[-4:-1])"
   ]
  },
  {
   "cell_type": "code",
   "execution_count": 122,
   "id": "30055a52",
   "metadata": {},
   "outputs": [
    {
     "name": "stdout",
     "output_type": "stream",
     "text": [
      "('mango', 'melon', 'kiwi', 'orange', 'cherry', 'banana', 'apple')\n"
     ]
    }
   ],
   "source": [
    "thistuple = (\"apple\", \"banana\", \"cherry\", \"orange\", \"kiwi\", \"melon\", \"mango\")\n",
    "print(thistuple[::-1])"
   ]
  },
  {
   "cell_type": "code",
   "execution_count": 123,
   "id": "600be03a",
   "metadata": {},
   "outputs": [],
   "source": [
    "# Update Tuples\n",
    "\n",
    "# Tuples are unchangeable, meaning that you cannot change, add, or remove items once the tuple is created."
   ]
  },
  {
   "cell_type": "code",
   "execution_count": 124,
   "id": "3f14a93d",
   "metadata": {},
   "outputs": [],
   "source": [
    "# Convert the tuple into a list to be able to change it:"
   ]
  },
  {
   "cell_type": "code",
   "execution_count": 125,
   "id": "ea329d0d",
   "metadata": {},
   "outputs": [
    {
     "name": "stdout",
     "output_type": "stream",
     "text": [
      "('apple', 'kiwi', 'cherry')\n"
     ]
    }
   ],
   "source": [
    "x = (\"apple\", \"banana\", \"cherry\")\n",
    "y = list(x)\n",
    "y[1] = \"kiwi\"\n",
    "x = tuple(y)\n",
    "print(x)\n"
   ]
  },
  {
   "cell_type": "code",
   "execution_count": 126,
   "id": "41e37565",
   "metadata": {},
   "outputs": [],
   "source": [
    "# Unpack Tuples\n",
    "\n",
    "# When we create a tuple, we normally assign values to it. This is called \"packing\" a tuple:\n"
   ]
  },
  {
   "cell_type": "code",
   "execution_count": 127,
   "id": "2579b4fc",
   "metadata": {},
   "outputs": [
    {
     "name": "stdout",
     "output_type": "stream",
     "text": [
      "('apple', 'banana', 'cherry')\n"
     ]
    }
   ],
   "source": [
    "fruits = (\"apple\", \"banana\", \"cherry\")\n",
    "print(fruits)\n"
   ]
  },
  {
   "cell_type": "code",
   "execution_count": 128,
   "id": "a4168d26",
   "metadata": {},
   "outputs": [],
   "source": [
    "# But, in Python, we are also allowed to extract the values back into variables. This is called \"unpacking\":"
   ]
  },
  {
   "cell_type": "code",
   "execution_count": 129,
   "id": "da6cafa9",
   "metadata": {},
   "outputs": [
    {
     "name": "stdout",
     "output_type": "stream",
     "text": [
      "apple\n",
      "banana\n",
      "cherry\n"
     ]
    }
   ],
   "source": [
    "fruits = (\"apple\", \"banana\", \"cherry\")\n",
    "\n",
    "(green, yellow, red) = fruits\n",
    "\n",
    "print(green)\n",
    "print(yellow)\n",
    "print(red)"
   ]
  },
  {
   "cell_type": "code",
   "execution_count": 130,
   "id": "024cf010",
   "metadata": {},
   "outputs": [],
   "source": [
    "# Join Tuples\n",
    "\n",
    "# To join two or more tuples you can use the + operator:"
   ]
  },
  {
   "cell_type": "code",
   "execution_count": 131,
   "id": "5938043d",
   "metadata": {},
   "outputs": [
    {
     "name": "stdout",
     "output_type": "stream",
     "text": [
      "('a', 'b', 'c', 1, 2, 3)\n"
     ]
    }
   ],
   "source": [
    "tuple1 = (\"a\", \"b\" , \"c\")\n",
    "tuple2 = (1, 2, 3)\n",
    "\n",
    "tuple3 = tuple1 + tuple2\n",
    "print(tuple3)"
   ]
  },
  {
   "cell_type": "code",
   "execution_count": 132,
   "id": "c87c4fff",
   "metadata": {},
   "outputs": [
    {
     "name": "stdout",
     "output_type": "stream",
     "text": [
      "2\n"
     ]
    }
   ],
   "source": [
    "# Tuple Methods\n",
    "\n",
    "# count():- Returns the number of times a specified value occurs in a tuple\n",
    "\n",
    "thistuple = (1, 3, 7, 8, 7, 5, 4, 6, 8, 5)\n",
    "\n",
    "x = thistuple.count(5)\n",
    "\n",
    "print(x)"
   ]
  },
  {
   "cell_type": "code",
   "execution_count": 133,
   "id": "ff95b4db",
   "metadata": {},
   "outputs": [
    {
     "name": "stdout",
     "output_type": "stream",
     "text": [
      "3\n"
     ]
    }
   ],
   "source": [
    "# index():- Searches the tuple for a specified value and returns the position of where it was found\n",
    "\n",
    "thistuple = (1, 3, 7, 8, 7, 5, 4, 6, 8, 5)\n",
    "\n",
    "x = thistuple.index(8)\n",
    "\n",
    "print(x)"
   ]
  },
  {
   "cell_type": "markdown",
   "id": "2652297f",
   "metadata": {},
   "source": [
    "# Python Sets"
   ]
  },
  {
   "cell_type": "code",
   "execution_count": 134,
   "id": "8efa87a1",
   "metadata": {},
   "outputs": [],
   "source": [
    "# Sets are used to store multiple items in a single variable.\n",
    "\n",
    "# Set is one of 4 built-in data types in Python used to store collections of data, the other 3 are List, Tuple, and Dictionary, all with different qualities and usage.\n",
    "\n",
    "# A set is a collection which is unordered, unchangeable*, and unindexed."
   ]
  },
  {
   "cell_type": "code",
   "execution_count": 135,
   "id": "5f6473e6",
   "metadata": {},
   "outputs": [
    {
     "name": "stdout",
     "output_type": "stream",
     "text": [
      "{'apple', 'banana', 'cherry'}\n"
     ]
    }
   ],
   "source": [
    "thisset = {\"apple\", \"banana\", \"cherry\"}\n",
    "print(thisset)"
   ]
  },
  {
   "cell_type": "code",
   "execution_count": 136,
   "id": "22c77068",
   "metadata": {},
   "outputs": [
    {
     "name": "stdout",
     "output_type": "stream",
     "text": [
      "{'apple', 'banana', 'cherry'}\n"
     ]
    }
   ],
   "source": [
    "# Duplicates Not Allowed\n",
    "\n",
    "thisset = {\"apple\", \"banana\", \"cherry\", \"apple\"}\n",
    "\n",
    "print(thisset)"
   ]
  },
  {
   "cell_type": "code",
   "execution_count": 137,
   "id": "a9ea27e2",
   "metadata": {},
   "outputs": [
    {
     "name": "stdout",
     "output_type": "stream",
     "text": [
      "3\n"
     ]
    }
   ],
   "source": [
    "# Get the Length of a Set\n",
    "\n",
    "thisset = {\"apple\", \"banana\", \"cherry\"}\n",
    "\n",
    "print(len(thisset))"
   ]
  },
  {
   "cell_type": "code",
   "execution_count": 138,
   "id": "0ffdde79",
   "metadata": {},
   "outputs": [],
   "source": [
    "# Access Set Items\n",
    "\n",
    "# You cannot access items in a set by referring to an index or a key.\n",
    "\n",
    "# But you can loop through the set items using a for loop, or ask if a specified value is present in a set, by using the in keyword."
   ]
  },
  {
   "cell_type": "code",
   "execution_count": 139,
   "id": "65527198",
   "metadata": {},
   "outputs": [
    {
     "name": "stdout",
     "output_type": "stream",
     "text": [
      "apple\n",
      "banana\n",
      "cherry\n"
     ]
    }
   ],
   "source": [
    "thisset = {\"apple\", \"banana\", \"cherry\"}\n",
    "\n",
    "for x in thisset:\n",
    "  print(x)"
   ]
  },
  {
   "cell_type": "code",
   "execution_count": 140,
   "id": "1f0876ec",
   "metadata": {},
   "outputs": [],
   "source": [
    "# Set Methods"
   ]
  },
  {
   "cell_type": "code",
   "execution_count": 141,
   "id": "3dc61fc1",
   "metadata": {},
   "outputs": [
    {
     "name": "stdout",
     "output_type": "stream",
     "text": [
      "{'apple', 'banana', 'cherry', 'orange'}\n"
     ]
    }
   ],
   "source": [
    "# add():- Adds an element to the set\n",
    "\n",
    "fruits = {\"apple\", \"banana\", \"cherry\"}\n",
    "\n",
    "fruits.add(\"orange\")\n",
    "\n",
    "print(fruits)"
   ]
  },
  {
   "cell_type": "code",
   "execution_count": 142,
   "id": "2720e620",
   "metadata": {},
   "outputs": [
    {
     "name": "stdout",
     "output_type": "stream",
     "text": [
      "set()\n"
     ]
    }
   ],
   "source": [
    "# clear():- Removes all the elements from the set\n",
    "\n",
    "fruits = {\"apple\", \"banana\", \"cherry\"}\n",
    "\n",
    "fruits.clear()\n",
    "\n",
    "print(fruits)"
   ]
  },
  {
   "cell_type": "code",
   "execution_count": 143,
   "id": "c5108669",
   "metadata": {},
   "outputs": [
    {
     "name": "stdout",
     "output_type": "stream",
     "text": [
      "{'apple', 'banana', 'cherry'}\n"
     ]
    }
   ],
   "source": [
    "# copy():- Returns a copy of the set\n",
    "\n",
    "fruits = {\"apple\", \"banana\", \"cherry\"}\n",
    "\n",
    "x = fruits.copy()\n",
    "\n",
    "print(x)"
   ]
  },
  {
   "cell_type": "code",
   "execution_count": 144,
   "id": "caa089eb",
   "metadata": {},
   "outputs": [
    {
     "name": "stdout",
     "output_type": "stream",
     "text": [
      "{'banana', 'cherry'}\n"
     ]
    }
   ],
   "source": [
    "# difference():- Returns a set containing the difference between two or more sets\n",
    "\n",
    "x = {\"apple\", \"banana\", \"cherry\"}\n",
    "y = {\"google\", \"microsoft\", \"apple\"}\n",
    "\n",
    "z = x.difference(y)\n",
    "\n",
    "print(z)"
   ]
  },
  {
   "cell_type": "code",
   "execution_count": 145,
   "id": "0dd403a6",
   "metadata": {},
   "outputs": [
    {
     "name": "stdout",
     "output_type": "stream",
     "text": [
      "{'banana', 'cherry'}\n"
     ]
    }
   ],
   "source": [
    "# difference_update():- Removes the items in this set that are also included in another, specified set\n",
    "\n",
    "x = {\"apple\", \"banana\", \"cherry\"}\n",
    "y = {\"google\", \"microsoft\", \"apple\"}\n",
    "\n",
    "x.difference_update(y)\n",
    "\n",
    "print(x)"
   ]
  },
  {
   "cell_type": "code",
   "execution_count": 146,
   "id": "311e10ea",
   "metadata": {},
   "outputs": [
    {
     "name": "stdout",
     "output_type": "stream",
     "text": [
      "{'apple'}\n"
     ]
    }
   ],
   "source": [
    "# intersection():- Returns a set, that is the intersection of two other sets\n",
    "\n",
    "x = {\"apple\", \"banana\", \"cherry\"}\n",
    "y = {\"google\", \"microsoft\", \"apple\"}\n",
    "\n",
    "z = x.intersection(y)\n",
    "\n",
    "print(z)"
   ]
  },
  {
   "cell_type": "code",
   "execution_count": 147,
   "id": "ce12f625",
   "metadata": {},
   "outputs": [
    {
     "name": "stdout",
     "output_type": "stream",
     "text": [
      "{'apple'}\n"
     ]
    }
   ],
   "source": [
    "# intersection_update():- Removes the items in this set that are not present in other, specified set(s)\n",
    "\n",
    "x = {\"apple\", \"banana\", \"cherry\"}\n",
    "y = {\"google\", \"microsoft\", \"apple\"}\n",
    "\n",
    "x.intersection_update(y)\n",
    "\n",
    "print(x)"
   ]
  },
  {
   "cell_type": "code",
   "execution_count": 148,
   "id": "4d37d04d",
   "metadata": {},
   "outputs": [
    {
     "name": "stdout",
     "output_type": "stream",
     "text": [
      "{'banana', 'cherry'}\n"
     ]
    }
   ],
   "source": [
    "# pop():- Removes an element from the set\n",
    "\n",
    "fruits = {\"apple\", \"banana\", \"cherry\"}\n",
    "\n",
    "fruits.pop()\n",
    "\n",
    "print(fruits)"
   ]
  },
  {
   "cell_type": "code",
   "execution_count": 149,
   "id": "34362729",
   "metadata": {},
   "outputs": [
    {
     "name": "stdout",
     "output_type": "stream",
     "text": [
      "{'apple', 'cherry'}\n"
     ]
    }
   ],
   "source": [
    "# remove():- Removes the specified element\n",
    "\n",
    "fruits = {\"apple\", \"banana\", \"cherry\"}\n",
    "\n",
    "fruits.remove(\"banana\")\n",
    "\n",
    "print(fruits)"
   ]
  },
  {
   "cell_type": "code",
   "execution_count": 150,
   "id": "739949d9",
   "metadata": {},
   "outputs": [
    {
     "name": "stdout",
     "output_type": "stream",
     "text": [
      "{'microsoft', 'cherry', 'google', 'banana'}\n"
     ]
    }
   ],
   "source": [
    "# symmetric_difference():- Returns a set with the symmetric differences of two sets\n",
    "\n",
    "x = {\"apple\", \"banana\", \"cherry\"}\n",
    "y = {\"google\", \"microsoft\", \"apple\"}\n",
    "\n",
    "z = x.symmetric_difference(y)\n",
    "\n",
    "print(z)"
   ]
  },
  {
   "cell_type": "code",
   "execution_count": 151,
   "id": "e859c61c",
   "metadata": {},
   "outputs": [
    {
     "name": "stdout",
     "output_type": "stream",
     "text": [
      "{'google', 'apple', 'microsoft', 'banana', 'cherry'}\n"
     ]
    }
   ],
   "source": [
    "# union():- Return a set containing the union of sets\n",
    "\n",
    "x = {\"apple\", \"banana\", \"cherry\"}\n",
    "y = {\"google\", \"microsoft\", \"apple\"}\n",
    "\n",
    "z = x.union(y)\n",
    "\n",
    "print(z)"
   ]
  },
  {
   "cell_type": "code",
   "execution_count": 152,
   "id": "9bab7e52",
   "metadata": {},
   "outputs": [
    {
     "name": "stdout",
     "output_type": "stream",
     "text": [
      "{'google', 'apple', 'microsoft', 'banana', 'cherry'}\n"
     ]
    }
   ],
   "source": [
    "# update():- Update the set with the union of this set and others\n",
    "\n",
    "x = {\"apple\", \"banana\", \"cherry\"}\n",
    "y = {\"google\", \"microsoft\", \"apple\"}\n",
    "\n",
    "x.update(y)\n",
    "\n",
    "print(x)"
   ]
  },
  {
   "cell_type": "markdown",
   "id": "6cff6ab5",
   "metadata": {},
   "source": [
    "# Python Dictionaries"
   ]
  },
  {
   "cell_type": "code",
   "execution_count": 153,
   "id": "b03d46fc",
   "metadata": {},
   "outputs": [],
   "source": [
    "# Dictionaries are used to store data values in key:value pairs.\n",
    "\n",
    "# A dictionary is a collection which is ordered*, changeable and do not allow duplicates."
   ]
  },
  {
   "cell_type": "code",
   "execution_count": 154,
   "id": "04d71476",
   "metadata": {},
   "outputs": [
    {
     "name": "stdout",
     "output_type": "stream",
     "text": [
      "{'brand': 'Ford', 'model': 'Mustang', 'year': 1964}\n"
     ]
    }
   ],
   "source": [
    "thisdict = {\n",
    "  \"brand\": \"Ford\",\n",
    "  \"model\": \"Mustang\",\n",
    "  \"year\": 1964\n",
    "}\n",
    "print(thisdict)"
   ]
  },
  {
   "cell_type": "code",
   "execution_count": 155,
   "id": "f5af45f6",
   "metadata": {},
   "outputs": [
    {
     "name": "stdout",
     "output_type": "stream",
     "text": [
      "{'brand': 'Ford', 'model': 'Mustang', 'year': 2020}\n"
     ]
    }
   ],
   "source": [
    "# Duplicates Not Allowed\n",
    "\n",
    "thisdict = {\n",
    "  \"brand\": \"Ford\",\n",
    "  \"model\": \"Mustang\",\n",
    "  \"year\": 1964,\n",
    "  \"year\": 2020\n",
    "}\n",
    "print(thisdict)"
   ]
  },
  {
   "cell_type": "code",
   "execution_count": 156,
   "id": "04bbd979",
   "metadata": {},
   "outputs": [
    {
     "name": "stdout",
     "output_type": "stream",
     "text": [
      "3\n"
     ]
    }
   ],
   "source": [
    "# Dictionary Length\n",
    "#To determine how many items a dictionary has, use the len() function:\n",
    "\n",
    "thisdict = {\n",
    "  \"brand\": \"Ford\",\n",
    "  \"model\": \"Mustang\",\n",
    "  \"year\": 1964,\n",
    "  \"year\": 2020\n",
    "}\n",
    "print(len(thisdict))\n"
   ]
  },
  {
   "cell_type": "code",
   "execution_count": 157,
   "id": "d218ad20",
   "metadata": {},
   "outputs": [
    {
     "name": "stdout",
     "output_type": "stream",
     "text": [
      "<class 'dict'>\n"
     ]
    }
   ],
   "source": [
    "thisdict = {\n",
    "  \"brand\": \"Ford\",\n",
    "  \"model\": \"Mustang\",\n",
    "  \"year\": 1964\n",
    "}\n",
    "print(type(thisdict))"
   ]
  },
  {
   "cell_type": "code",
   "execution_count": 158,
   "id": "7ad46ed8",
   "metadata": {},
   "outputs": [],
   "source": [
    "# Access Dictionary Items\n",
    "\n",
    "#You can access the items of a dictionary by referring to its key name, inside square brackets:"
   ]
  },
  {
   "cell_type": "code",
   "execution_count": 160,
   "id": "20454c0a",
   "metadata": {},
   "outputs": [
    {
     "name": "stdout",
     "output_type": "stream",
     "text": [
      "Mustang\n"
     ]
    }
   ],
   "source": [
    "thisdict = {\n",
    "  \"brand\": \"Ford\",\n",
    "  \"model\": \"Mustang\",\n",
    "  \"year\": 1964\n",
    "}\n",
    "x = thisdict[\"model\"]\n",
    "print(x)"
   ]
  },
  {
   "cell_type": "code",
   "execution_count": 161,
   "id": "c4f453df",
   "metadata": {},
   "outputs": [
    {
     "name": "stdout",
     "output_type": "stream",
     "text": [
      "dict_keys(['brand', 'model', 'year'])\n"
     ]
    }
   ],
   "source": [
    "# Get Keys\n",
    "# The keys() method will return a list of all the keys in the dictionary.\n",
    "\n",
    "thisdict = {\n",
    "  \"brand\": \"Ford\",\n",
    "  \"model\": \"Mustang\",\n",
    "  \"year\": 1964\n",
    "}\n",
    "\n",
    "x = thisdict.keys()\n",
    "\n",
    "print(x)"
   ]
  },
  {
   "cell_type": "code",
   "execution_count": 162,
   "id": "d4552825",
   "metadata": {},
   "outputs": [
    {
     "name": "stdout",
     "output_type": "stream",
     "text": [
      "dict_values(['Ford', 'Mustang', 1964])\n"
     ]
    }
   ],
   "source": [
    "# Get Values\n",
    "\n",
    "# The values() method will return a list of all the values in the dictionary.\n",
    "\n",
    "\n",
    "thisdict = {\n",
    "  \"brand\": \"Ford\",\n",
    "  \"model\": \"Mustang\",\n",
    "  \"year\": 1964\n",
    "}\n",
    "\n",
    "x = thisdict.values()\n",
    "\n",
    "print(x)\n"
   ]
  },
  {
   "cell_type": "code",
   "execution_count": 164,
   "id": "01537076",
   "metadata": {},
   "outputs": [
    {
     "name": "stdout",
     "output_type": "stream",
     "text": [
      "{'brand': 'Ford', 'model': 'Mustang', 'year': 2018}\n"
     ]
    }
   ],
   "source": [
    "# Change Dictionary Items\n",
    "\n",
    "# You can change the value of a specific item by referring to its key name:\n",
    "\n",
    "thisdict ={\n",
    "  \"brand\": \"Ford\",\n",
    "  \"model\": \"Mustang\",\n",
    "  \"year\": 1964\n",
    "}\n",
    "\n",
    "thisdict[\"year\"] = 2018\n",
    "\n",
    "print(thisdict)"
   ]
  },
  {
   "cell_type": "code",
   "execution_count": 165,
   "id": "f231170f",
   "metadata": {},
   "outputs": [
    {
     "name": "stdout",
     "output_type": "stream",
     "text": [
      "{'brand': 'Ford', 'model': 'Mustang', 'year': 1964, 'color': 'red'}\n"
     ]
    }
   ],
   "source": [
    "# Add Dictionary Items\n",
    "\n",
    "# Adding an item to the dictionary is done by using a new index key and assigning a value to it:\n",
    "\n",
    "\n",
    "thisdict = {\n",
    "  \"brand\": \"Ford\",\n",
    "  \"model\": \"Mustang\",\n",
    "  \"year\": 1964\n",
    "}\n",
    "thisdict[\"color\"] = \"red\"\n",
    "print(thisdict)"
   ]
  },
  {
   "cell_type": "code",
   "execution_count": 166,
   "id": "af296fb4",
   "metadata": {},
   "outputs": [],
   "source": [
    "# Dictionary Methods"
   ]
  },
  {
   "cell_type": "code",
   "execution_count": 167,
   "id": "a56814e7",
   "metadata": {},
   "outputs": [
    {
     "name": "stdout",
     "output_type": "stream",
     "text": [
      "{}\n"
     ]
    }
   ],
   "source": [
    "# clear():- Removes all the elements from the dictionary\n",
    "\n",
    "car = {\n",
    "  \"brand\": \"Ford\",\n",
    "  \"model\": \"Mustang\",\n",
    "  \"year\": 1964\n",
    "}\n",
    "\n",
    "car.clear()\n",
    "\n",
    "print(car)"
   ]
  },
  {
   "cell_type": "code",
   "execution_count": 168,
   "id": "3db794e3",
   "metadata": {},
   "outputs": [
    {
     "name": "stdout",
     "output_type": "stream",
     "text": [
      "{'brand': 'Ford', 'model': 'Mustang', 'year': 1964}\n"
     ]
    }
   ],
   "source": [
    "# copy():- Returns a copy of the dictionary\n",
    "\n",
    "\n",
    "car = {\n",
    "  \"brand\": \"Ford\",\n",
    "  \"model\": \"Mustang\",\n",
    "  \"year\": 1964\n",
    "}\n",
    "\n",
    "x = car.copy()\n",
    "\n",
    "print(x)"
   ]
  },
  {
   "cell_type": "code",
   "execution_count": 169,
   "id": "d9b8708d",
   "metadata": {},
   "outputs": [
    {
     "name": "stdout",
     "output_type": "stream",
     "text": [
      "{'key1': 0, 'key2': 0, 'key3': 0}\n"
     ]
    }
   ],
   "source": [
    "# fromkeys():- Returns a dictionary with the specified keys and value\n",
    "\n",
    "x = ('key1', 'key2', 'key3')\n",
    "y = 0\n",
    "\n",
    "thisdict = dict.fromkeys(x, y)\n",
    "\n",
    "print(thisdict)"
   ]
  },
  {
   "cell_type": "code",
   "execution_count": 171,
   "id": "ff8408da",
   "metadata": {},
   "outputs": [
    {
     "name": "stdout",
     "output_type": "stream",
     "text": [
      "Mustang\n"
     ]
    }
   ],
   "source": [
    "# get():- Returns the value of the specified key\n",
    "\n",
    "car = {\n",
    "  \"brand\": \"Ford\",\n",
    "  \"model\": \"Mustang\",\n",
    "  \"year\": 1964\n",
    "}\n",
    "x = car.get(\"model\")\n",
    "print(x)"
   ]
  },
  {
   "cell_type": "code",
   "execution_count": 172,
   "id": "830facc7",
   "metadata": {},
   "outputs": [
    {
     "name": "stdout",
     "output_type": "stream",
     "text": [
      "dict_items([('brand', 'Ford'), ('model', 'Mustang'), ('year', 1964)])\n"
     ]
    }
   ],
   "source": [
    "# items():- Returns a list containing a tuple for each key value pair\n",
    "\n",
    "car = {\n",
    "  \"brand\": \"Ford\",\n",
    "  \"model\": \"Mustang\",\n",
    "  \"year\": 1964\n",
    "}\n",
    "\n",
    "x = car.items()\n",
    "print(x)"
   ]
  },
  {
   "cell_type": "code",
   "execution_count": 173,
   "id": "b2682d24",
   "metadata": {},
   "outputs": [
    {
     "name": "stdout",
     "output_type": "stream",
     "text": [
      "dict_keys(['brand', 'model', 'year'])\n"
     ]
    }
   ],
   "source": [
    "# keys():- Returns a list containing the dictionary's keys\n",
    "\n",
    "car = {\n",
    "  \"brand\": \"Ford\",\n",
    "  \"model\": \"Mustang\",\n",
    "  \"year\": 1964\n",
    "}\n",
    "\n",
    "x = car.keys()\n",
    "\n",
    "print(x)"
   ]
  },
  {
   "cell_type": "code",
   "execution_count": 174,
   "id": "8585dc43",
   "metadata": {},
   "outputs": [
    {
     "name": "stdout",
     "output_type": "stream",
     "text": [
      "{'brand': 'Ford', 'year': 1964}\n"
     ]
    }
   ],
   "source": [
    "# pop():-Removes the element with the specified key\n",
    "\n",
    "car = {\n",
    "  \"brand\": \"Ford\n",
    "  \"model\": \"Mustang\",\n",
    "  \"year\": 1964\n",
    "}\n",
    "\n",
    "car.pop(\"model\")\n",
    "\n",
    "print(car)"
   ]
  },
  {
   "cell_type": "code",
   "execution_count": 175,
   "id": "d07ab6c9",
   "metadata": {},
   "outputs": [
    {
     "name": "stdout",
     "output_type": "stream",
     "text": [
      "{'brand': 'Ford', 'model': 'Mustang', 'year': 1964, 'color': 'White'}\n"
     ]
    }
   ],
   "source": [
    "# update():- Updates the dictionary with the specified key-value pairs\n",
    "\n",
    "car = {\n",
    "  \"brand\": \"Ford\",\n",
    "  \"model\": \"Mustang\",\n",
    "  \"year\": 1964\n",
    "}\n",
    "\n",
    "car.update({\"color\": \"White\"})\n",
    "\n",
    "print(car)"
   ]
  },
  {
   "cell_type": "markdown",
   "id": "1265f77c",
   "metadata": {},
   "source": [
    "# Python If-else statements"
   ]
  },
  {
   "cell_type": "code",
   "execution_count": 176,
   "id": "5893904c",
   "metadata": {},
   "outputs": [],
   "source": [
    "# Decision making is the most important aspect of almost all the programming languages. \n",
    "# As the name implies, decision making allows us to run a particular block of code for a particular decision. \n",
    "# Here, the decisions are made on the validity of the particular conditions. \n",
    "# Condition checking is the backbone of decision making."
   ]
  },
  {
   "cell_type": "code",
   "execution_count": 177,
   "id": "8025146b",
   "metadata": {},
   "outputs": [],
   "source": [
    "# Indentation in Python\n",
    "\n",
    "# For the ease of programming and to achieve simplicity, python doesn't allow the use of parentheses for the block level code.\n",
    "# In Python, indentation is used to declare a block. \n",
    "# If two statements are at the same indentation level, then they are the part of the same block\n"
   ]
  },
  {
   "cell_type": "code",
   "execution_count": 178,
   "id": "25d16148",
   "metadata": {},
   "outputs": [],
   "source": [
    "# The if statement\n",
    "\n",
    "# The if statement is used to test a particular condition and if the condition is true, it executes a block of code known as if-block. \n",
    "# The condition of if statement can be any valid logical expression which can be either evaluated to true or false."
   ]
  },
  {
   "cell_type": "code",
   "execution_count": 180,
   "id": "17270189",
   "metadata": {},
   "outputs": [
    {
     "name": "stdout",
     "output_type": "stream",
     "text": [
      "Enter the number10\n",
      "Even number\n"
     ]
    }
   ],
   "source": [
    "num=int(input(\"Enter the number\"))\n",
    "if num%2==0:\n",
    "    print(\"Even number\")"
   ]
  },
  {
   "cell_type": "code",
   "execution_count": 181,
   "id": "5d205cdb",
   "metadata": {},
   "outputs": [],
   "source": [
    "# Program to print the largest of the three numbers."
   ]
  },
  {
   "cell_type": "code",
   "execution_count": 182,
   "id": "0297e6af",
   "metadata": {},
   "outputs": [
    {
     "name": "stdout",
     "output_type": "stream",
     "text": [
      "Enter a? 10\n",
      "Enter b? 20\n",
      "Enter c? 30\n",
      "c is largest\n"
     ]
    }
   ],
   "source": [
    "a = int(input(\"Enter a? \"));  \n",
    "b = int(input(\"Enter b? \"));  \n",
    "c = int(input(\"Enter c? \"));  \n",
    "if a>b and a>c:  \n",
    "    print(\"a is largest\");  \n",
    "if b>a and b>c:  \n",
    "    print(\"b is largest\");  \n",
    "if c>a and c>b:  \n",
    "    print(\"c is largest\");  "
   ]
  },
  {
   "cell_type": "code",
   "execution_count": 183,
   "id": "0d7c17ef",
   "metadata": {},
   "outputs": [],
   "source": [
    "# The if-else statement\n",
    "\n",
    "# The if-else statement provides an else block combined with the if statement which is executed in the false case of the condition."
   ]
  },
  {
   "cell_type": "code",
   "execution_count": 184,
   "id": "62a72533",
   "metadata": {},
   "outputs": [
    {
     "name": "stdout",
     "output_type": "stream",
     "text": [
      "Enter your age? 17\n",
      "Sorry! you have to wait !!\n"
     ]
    }
   ],
   "source": [
    "age = int (input(\"Enter your age? \"))  \n",
    "if age>=18:  \n",
    "    print(\"You are eligible to vote !!\");  \n",
    "else:  \n",
    "    print(\"Sorry! you have to wait !!\");  "
   ]
  },
  {
   "cell_type": "code",
   "execution_count": 185,
   "id": "2ba73733",
   "metadata": {},
   "outputs": [
    {
     "name": "stdout",
     "output_type": "stream",
     "text": [
      "enter the number?5\n",
      "Number is odd...\n"
     ]
    }
   ],
   "source": [
    "num = int(input(\"enter the number?\"))  \n",
    "if num%2 == 0:  \n",
    "    print(\"Number is even...\")  \n",
    "else:  \n",
    "    print(\"Number is odd...\")  "
   ]
  },
  {
   "cell_type": "code",
   "execution_count": 186,
   "id": "5c4ba5c0",
   "metadata": {},
   "outputs": [],
   "source": [
    "# The elif statement\n",
    "\n",
    "# The elif statement enables us to check multiple conditions and execute the specific block of statements depending upon the true condition among them. \n",
    "# We can have any number of elif statements in our program depending upon our need. \n",
    "# However, using elif is optional."
   ]
  },
  {
   "cell_type": "code",
   "execution_count": 187,
   "id": "22a2d9d2",
   "metadata": {},
   "outputs": [
    {
     "name": "stdout",
     "output_type": "stream",
     "text": [
      "Enter the number?78\n",
      "number is not equal to 10, 50 or 100\n"
     ]
    }
   ],
   "source": [
    "number = int(input(\"Enter the number?\"))  \n",
    "if number==10:  \n",
    "    print(\"number is equals to 10\")  \n",
    "elif number==50:  \n",
    "    print(\"number is equal to 50\");  \n",
    "elif number==100:  \n",
    "    print(\"number is equal to 100\");  \n",
    "else:  \n",
    "    print(\"number is not equal to 10, 50 or 100\");  "
   ]
  },
  {
   "cell_type": "code",
   "execution_count": 188,
   "id": "90697af4",
   "metadata": {},
   "outputs": [
    {
     "name": "stdout",
     "output_type": "stream",
     "text": [
      "Enter the marks? 98\n",
      "Congrats ! you scored grade A ...\n"
     ]
    }
   ],
   "source": [
    "marks = int(input(\"Enter the marks? \"))  \n",
    "if marks > 85 and marks <= 100:  \n",
    "   print(\"Congrats ! you scored grade A ...\")  \n",
    "elif marks > 60 and marks <= 85:  \n",
    "   print(\"You scored grade B + ...\")  \n",
    "elif marks > 40 and marks <= 60:  \n",
    "   print(\"You scored grade B ...\")  \n",
    "elif (marks > 30 and marks <= 40):  \n",
    "   print(\"You scored grade C ...\")  \n",
    "else:  \n",
    "   print(\"Sorry you are fail ?\")  "
   ]
  },
  {
   "cell_type": "markdown",
   "id": "58035eb1",
   "metadata": {},
   "source": [
    "# Python For Loops"
   ]
  },
  {
   "cell_type": "code",
   "execution_count": 189,
   "id": "6d234ae6",
   "metadata": {},
   "outputs": [],
   "source": [
    "# A for loop is used for iterating over a sequence (that is either a list, a tuple, a dictionary, a set, or a string).\n",
    "\n",
    "# This is less like the for keyword in other programming languages, and works more like an iterator method as found in other object-orientated programming languages.\n",
    "\n",
    "# With the for loop we can execute a set of statements, once for each item in a list, tuple, set etc."
   ]
  },
  {
   "cell_type": "code",
   "execution_count": 190,
   "id": "102ea260",
   "metadata": {},
   "outputs": [
    {
     "name": "stdout",
     "output_type": "stream",
     "text": [
      "apple\n",
      "banana\n",
      "cherry\n"
     ]
    }
   ],
   "source": [
    "fruits = [\"apple\", \"banana\", \"cherry\"]\n",
    "for x in fruits:\n",
    "  print(x)"
   ]
  },
  {
   "cell_type": "code",
   "execution_count": 193,
   "id": "852ae5e5",
   "metadata": {},
   "outputs": [
    {
     "name": "stdout",
     "output_type": "stream",
     "text": [
      "('The list of squares is', [1, 4, 9, 16, 25, 36, 49, 64, 81, 100])\n"
     ]
    }
   ],
   "source": [
    "numbers = [1,2,3,4,5,6,7,8,9,10] \n",
    "square = 0  \n",
    "squares = []  \n",
    "for value in numbers:\n",
    "        square = value ** 2\n",
    "        squares.append(square)\n",
    "print((\"The list of squares is\", squares))"
   ]
  },
  {
   "cell_type": "code",
   "execution_count": 194,
   "id": "42316113",
   "metadata": {},
   "outputs": [],
   "source": [
    "# The range() Function\n",
    "\n",
    "# To loop through a set of code a specified number of times, we can use the range() function,\n",
    "\n",
    "# The range() function returns a sequence of numbers, starting from 0 by default, and increments by 1 (by default), and ends at a specified number."
   ]
  },
  {
   "cell_type": "code",
   "execution_count": 195,
   "id": "4692f232",
   "metadata": {},
   "outputs": [
    {
     "name": "stdout",
     "output_type": "stream",
     "text": [
      "0\n",
      "1\n",
      "2\n",
      "3\n",
      "4\n",
      "5\n"
     ]
    }
   ],
   "source": [
    "for x in range(6):\n",
    "  print(x)"
   ]
  },
  {
   "cell_type": "code",
   "execution_count": 196,
   "id": "8a22a3d5",
   "metadata": {},
   "outputs": [
    {
     "name": "stdout",
     "output_type": "stream",
     "text": [
      "2\n",
      "3\n",
      "4\n",
      "5\n"
     ]
    }
   ],
   "source": [
    "for x in range(2, 6):\n",
    "  print(x)"
   ]
  },
  {
   "cell_type": "code",
   "execution_count": 197,
   "id": "866cefaa",
   "metadata": {},
   "outputs": [],
   "source": [
    "# Python Program to display Multiplication Table"
   ]
  },
  {
   "cell_type": "code",
   "execution_count": 202,
   "id": "49ccdb1b",
   "metadata": {},
   "outputs": [
    {
     "name": "stdout",
     "output_type": "stream",
     "text": [
      " Please Enter any Positive Integer lessthan 10 : 5\n",
      "5 x 1 = 5\n",
      "5 x 2 = 10\n",
      "5 x 3 = 15\n",
      "5 x 4 = 20\n",
      "5 x 5 = 25\n",
      "5 x 6 = 30\n",
      "5 x 7 = 35\n",
      "5 x 8 = 40\n",
      "5 x 9 = 45\n",
      "5 x 10 = 50\n"
     ]
    }
   ],
   "source": [
    "num = int(input(\" Please Enter any Positive Integer lessthan 10 : \"))\n",
    "for i in range(1, 11):\n",
    "       print(num, 'x', i, '=', num*i)        "
   ]
  },
  {
   "cell_type": "code",
   "execution_count": 203,
   "id": "5b84de96",
   "metadata": {},
   "outputs": [],
   "source": [
    "# The break Statement\n",
    "\n",
    "# With the break statement we can stop the loop before it has looped through all the items:\n",
    "\n"
   ]
  },
  {
   "cell_type": "code",
   "execution_count": 204,
   "id": "22038bc6",
   "metadata": {},
   "outputs": [
    {
     "name": "stdout",
     "output_type": "stream",
     "text": [
      "apple\n",
      "banana\n"
     ]
    }
   ],
   "source": [
    "fruits = [\"apple\", \"banana\", \"cherry\"]\n",
    "for x in fruits:\n",
    "  print(x)\n",
    "  if x == \"banana\":\n",
    "    break"
   ]
  },
  {
   "cell_type": "code",
   "execution_count": 205,
   "id": "ca7d241d",
   "metadata": {},
   "outputs": [
    {
     "name": "stdout",
     "output_type": "stream",
     "text": [
      "apple\n"
     ]
    }
   ],
   "source": [
    "fruits = [\"apple\", \"banana\", \"cherry\"]\n",
    "for x in fruits:\n",
    "  if x == \"banana\":\n",
    "    break\n",
    "  print(x)"
   ]
  },
  {
   "cell_type": "code",
   "execution_count": 206,
   "id": "9bca8643",
   "metadata": {},
   "outputs": [
    {
     "name": "stdout",
     "output_type": "stream",
     "text": [
      "p\n",
      "y\n",
      "t\n",
      "h\n"
     ]
    }
   ],
   "source": [
    "str = \"python\"  \n",
    "for i in str:  \n",
    "    if i == 'o':  \n",
    "        break  \n",
    "    print(i);  "
   ]
  },
  {
   "cell_type": "code",
   "execution_count": 207,
   "id": "55fd1a6d",
   "metadata": {},
   "outputs": [],
   "source": [
    "# The continue Statement\n",
    "\n",
    "# With the continue statement we can stop the current iteration of the loop, and continue with the next:"
   ]
  },
  {
   "cell_type": "code",
   "execution_count": 208,
   "id": "50e5848f",
   "metadata": {},
   "outputs": [
    {
     "name": "stdout",
     "output_type": "stream",
     "text": [
      "apple\n",
      "cherry\n"
     ]
    }
   ],
   "source": [
    "fruits = [\"apple\", \"banana\", \"cherry\"]\n",
    "for x in fruits:\n",
    "  if x == \"banana\":\n",
    "    continue\n",
    "  print(x)"
   ]
  },
  {
   "cell_type": "code",
   "execution_count": 210,
   "id": "3eb25a5f",
   "metadata": {},
   "outputs": [
    {
     "name": "stdout",
     "output_type": "stream",
     "text": [
      "10\n",
      "11\n",
      "12\n",
      "13\n",
      "14\n",
      "16\n",
      "17\n",
      "18\n",
      "19\n",
      "20\n"
     ]
    }
   ],
   "source": [
    "for iterator in range(10, 21):  \n",
    "    if iterator == 15:\n",
    "        continue\n",
    "    print( iterator )  "
   ]
  },
  {
   "cell_type": "markdown",
   "id": "57025f9d",
   "metadata": {},
   "source": [
    "# Python While Loops"
   ]
  },
  {
   "cell_type": "code",
   "execution_count": 211,
   "id": "44a16343",
   "metadata": {},
   "outputs": [],
   "source": [
    "# In coding, loops are designed to execute a specified code block repeatedly. \n",
    "# We'll learn how to construct a while loop in Python, the syntax of a while loop, loop controls like break and continue, and other exercises in this tutorial."
   ]
  },
  {
   "cell_type": "code",
   "execution_count": 212,
   "id": "d6c571a7",
   "metadata": {},
   "outputs": [],
   "source": [
    "# The Python while loop iteration of a code block is executed as long as the given condition, i.e., conditional_expression, is true."
   ]
  },
  {
   "cell_type": "code",
   "execution_count": 213,
   "id": "3aa3c2b7",
   "metadata": {},
   "outputs": [
    {
     "name": "stdout",
     "output_type": "stream",
     "text": [
      "1\n",
      "2\n",
      "3\n",
      "4\n",
      "5\n"
     ]
    }
   ],
   "source": [
    "i = 1\n",
    "while i < 6:\n",
    "  print(i)\n",
    "  i += 1"
   ]
  },
  {
   "cell_type": "code",
   "execution_count": 218,
   "id": "639ad0a1",
   "metadata": {},
   "outputs": [
    {
     "name": "stdout",
     "output_type": "stream",
     "text": [
      "Enter any Number  :5\n",
      "5  *  1  =  5\n",
      "5  *  2  =  10\n",
      "5  *  3  =  15\n",
      "5  *  4  =  20\n",
      "5  *  5  =  25\n",
      "5  *  6  =  30\n",
      "5  *  7  =  35\n",
      "5  *  8  =  40\n",
      "5  *  9  =  45\n",
      "5  *  10  =  50\n"
     ]
    }
   ],
   "source": [
    "n = int(input(\"Enter any Number  :\"));\n",
    "i=1\n",
    "while i <11:\n",
    "     print(n,\" * \",i,\" = \",n*i)\n",
    "     i=i+1"
   ]
  },
  {
   "cell_type": "code",
   "execution_count": 219,
   "id": "888cd106",
   "metadata": {},
   "outputs": [],
   "source": [
    "# The break Statement\n",
    "# With the break statement we can stop the loop even if the while condition is true:"
   ]
  },
  {
   "cell_type": "code",
   "execution_count": 220,
   "id": "82b0ea9c",
   "metadata": {},
   "outputs": [
    {
     "name": "stdout",
     "output_type": "stream",
     "text": [
      "1\n",
      "2\n",
      "3\n"
     ]
    }
   ],
   "source": [
    "i = 1\n",
    "while i < 6:\n",
    "  print(i)\n",
    "  if i == 3:\n",
    "    break\n",
    "  i += 1"
   ]
  },
  {
   "cell_type": "code",
   "execution_count": 221,
   "id": "4938ae54",
   "metadata": {},
   "outputs": [],
   "source": [
    "# The continue Statement\n",
    "\n",
    "# With the continue statement we can stop the current iteration, and continue with the next:"
   ]
  },
  {
   "cell_type": "code",
   "execution_count": 222,
   "id": "23a0a2b1",
   "metadata": {},
   "outputs": [
    {
     "name": "stdout",
     "output_type": "stream",
     "text": [
      "1\n",
      "2\n",
      "4\n",
      "5\n",
      "6\n"
     ]
    }
   ],
   "source": [
    "i = 0\n",
    "while i < 6:\n",
    "  i += 1\n",
    "  if i == 3:\n",
    "    continue\n",
    "  print(i)"
   ]
  },
  {
   "cell_type": "markdown",
   "id": "1c8b2840",
   "metadata": {},
   "source": [
    "# Function"
   ]
  },
  {
   "cell_type": "code",
   "execution_count": 1,
   "id": "cc4121f4",
   "metadata": {},
   "outputs": [],
   "source": [
    "# A function is a block of code which only runs when it is called.\n",
    "\n",
    "# You can pass data, known as parameters, into a function.\n",
    "\n",
    "# A function can return data as a result."
   ]
  },
  {
   "cell_type": "code",
   "execution_count": 2,
   "id": "e35f7ca5",
   "metadata": {},
   "outputs": [],
   "source": [
    "# Creating a Function"
   ]
  },
  {
   "cell_type": "code",
   "execution_count": 3,
   "id": "94373bd1",
   "metadata": {},
   "outputs": [],
   "source": [
    "def my_function():\n",
    "  print(\"Hello from a function\")"
   ]
  },
  {
   "cell_type": "code",
   "execution_count": 4,
   "id": "36db20bf",
   "metadata": {},
   "outputs": [],
   "source": [
    "# Calling a Function\n",
    "# To call a function, use the function name followed by parenthesis:"
   ]
  },
  {
   "cell_type": "code",
   "execution_count": 5,
   "id": "fe0e427b",
   "metadata": {},
   "outputs": [
    {
     "name": "stdout",
     "output_type": "stream",
     "text": [
      "Hello from a function\n"
     ]
    }
   ],
   "source": [
    "def my_function():\n",
    "  print(\"Hello from a function\")\n",
    "\n",
    "my_function()"
   ]
  },
  {
   "cell_type": "code",
   "execution_count": 6,
   "id": "9f7eaf72",
   "metadata": {},
   "outputs": [],
   "source": [
    "# Function Arguments"
   ]
  },
  {
   "cell_type": "code",
   "execution_count": 7,
   "id": "acbedc1b",
   "metadata": {},
   "outputs": [],
   "source": [
    "# Default arguments\n",
    "# Keyword arguments\n",
    "# Required arguments\n",
    "# Variable-length arguments"
   ]
  },
  {
   "cell_type": "code",
   "execution_count": 8,
   "id": "c9cc5114",
   "metadata": {},
   "outputs": [],
   "source": [
    "# 1) Default Arguments\n",
    "\n",
    "# A default argument is a kind of parameter that takes as input a default value if no value is supplied for the argument when the function is called. \n",
    "# Default arguments are demonstrated in the following instance."
   ]
  },
  {
   "cell_type": "code",
   "execution_count": 10,
   "id": "55e99b0b",
   "metadata": {},
   "outputs": [
    {
     "name": "stdout",
     "output_type": "stream",
     "text": [
      "Name:  miki\n",
      "Age  50\n",
      "Name:  miki\n",
      "Age  35\n"
     ]
    }
   ],
   "source": [
    "def printinfo( name, age = 35 ):\n",
    "    print (\"Name: \", name)\n",
    "    print (\"Age \", age)\n",
    "    return\n",
    "\n",
    "printinfo( age=50, name=\"miki\" )\n",
    "printinfo( name=\"miki\" )"
   ]
  },
  {
   "cell_type": "code",
   "execution_count": 11,
   "id": "5fc35b27",
   "metadata": {},
   "outputs": [
    {
     "name": "stdout",
     "output_type": "stream",
     "text": [
      "I am from Sweden\n",
      "I am from India\n",
      "I am from Norway\n",
      "I am from Brazil\n"
     ]
    }
   ],
   "source": [
    "def my_function(country = \"Norway\"):\n",
    "  print(\"I am from \" + country)\n",
    "\n",
    "my_function(\"Sweden\")\n",
    "my_function(\"India\")\n",
    "my_function()\n",
    "my_function(\"Brazil\")"
   ]
  },
  {
   "cell_type": "code",
   "execution_count": 12,
   "id": "fb0cdd64",
   "metadata": {},
   "outputs": [],
   "source": [
    "# 2) Keyword Arguments\n",
    "\n",
    "# A function called's arguments are linked to keyword arguments. \n",
    "# When invoking a function with keyword arguments, the user may tell whose parameter value it is by looking at the parameter label."
   ]
  },
  {
   "cell_type": "code",
   "execution_count": 13,
   "id": "07b8a8e9",
   "metadata": {},
   "outputs": [
    {
     "name": "stdout",
     "output_type": "stream",
     "text": [
      "The youngest child is Sanvi\n"
     ]
    }
   ],
   "source": [
    "def my_function(child3, child2, child1):\n",
    "  print(\"The youngest child is \" + child3)\n",
    "\n",
    "my_function(child1 = \"Vedika\", child2 = \"Rahul\", child3 = \"Sanvi\")"
   ]
  },
  {
   "cell_type": "code",
   "execution_count": 14,
   "id": "e9261335",
   "metadata": {},
   "outputs": [],
   "source": [
    "# 3) Variable-Length Arguments\n",
    "\n",
    "# We can use special characters in Python functions to pass as many arguments as we want in a function. \n",
    "# There are two types of characters that we can use for this purpose:\n",
    "\n",
    "# *args -These are Non-Keyword Arguments\n",
    "# **kwargs -These are Keyword Arguments."
   ]
  },
  {
   "cell_type": "code",
   "execution_count": 15,
   "id": "d4b560fd",
   "metadata": {},
   "outputs": [
    {
     "name": "stdout",
     "output_type": "stream",
     "text": [
      "The youngest child is Linus\n"
     ]
    }
   ],
   "source": [
    "def my_function(*kids):\n",
    "  print(\"The youngest child is \" + kids[2])\n",
    "\n",
    "my_function(\"Emil\", \"Tobias\", \"Linus\")"
   ]
  },
  {
   "cell_type": "code",
   "execution_count": 16,
   "id": "cd48c00f",
   "metadata": {},
   "outputs": [
    {
     "name": "stdout",
     "output_type": "stream",
     "text": [
      "His last name is Refsnes\n"
     ]
    }
   ],
   "source": [
    "# **kwargs -These are Keyword Arguments.\n",
    "\n",
    "# If you do not know how many keyword arguments that will be passed into your function, add two asterisk: ** before the parameter name in the function definition.\n",
    "\n",
    "\n",
    "def my_function(**kid):\n",
    "  print(\"His last name is \" + kid[\"lname\"])\n",
    "\n",
    "my_function(fname = \"Tobias\", lname = \"Refsnes\")"
   ]
  },
  {
   "cell_type": "code",
   "execution_count": 17,
   "id": "3dbee8a5",
   "metadata": {},
   "outputs": [],
   "source": [
    "# The return Statement\n",
    "\n",
    "#The statement return [expression] exits a function, optionally passing back an expression to the caller. \n",
    "\n",
    "#A return statement with no arguments is the same as return None."
   ]
  },
  {
   "cell_type": "code",
   "execution_count": 18,
   "id": "3ad80006",
   "metadata": {},
   "outputs": [
    {
     "name": "stdout",
     "output_type": "stream",
     "text": [
      "15\n",
      "25\n",
      "45\n"
     ]
    }
   ],
   "source": [
    "def my_function(x):\n",
    "  return 5 * x\n",
    "\n",
    "print(my_function(3))\n",
    "print(my_function(5))\n",
    "print(my_function(9))"
   ]
  },
  {
   "cell_type": "markdown",
   "id": "d13c0478",
   "metadata": {},
   "source": [
    "# Python Lambda Functions"
   ]
  },
  {
   "cell_type": "code",
   "execution_count": 19,
   "id": "ab680549",
   "metadata": {},
   "outputs": [],
   "source": [
    "# Lambda Functions in Python are anonymous functions, implying they don't have a name. \n",
    "\n",
    "# We can also use the lambda keyword in Python to define an unnamed function."
   ]
  },
  {
   "cell_type": "code",
   "execution_count": 20,
   "id": "a8b6dce5",
   "metadata": {},
   "outputs": [
    {
     "name": "stdout",
     "output_type": "stream",
     "text": [
      "10\n"
     ]
    }
   ],
   "source": [
    "add = lambda num: num + 4  \n",
    "print( add(6) )  "
   ]
  },
  {
   "cell_type": "code",
   "execution_count": 21,
   "id": "0e0b0035",
   "metadata": {},
   "outputs": [
    {
     "name": "stdout",
     "output_type": "stream",
     "text": [
      "15\n"
     ]
    }
   ],
   "source": [
    "x = lambda a : a + 10\n",
    "print(x(5))"
   ]
  },
  {
   "cell_type": "code",
   "execution_count": 22,
   "id": "ac34590e",
   "metadata": {},
   "outputs": [
    {
     "name": "stdout",
     "output_type": "stream",
     "text": [
      "30\n"
     ]
    }
   ],
   "source": [
    "x=lambda a,b:a*b\n",
    "print(x(5,6))"
   ]
  },
  {
   "cell_type": "code",
   "execution_count": 23,
   "id": "828f47ec",
   "metadata": {},
   "outputs": [
    {
     "name": "stdout",
     "output_type": "stream",
     "text": [
      "13\n"
     ]
    }
   ],
   "source": [
    "x = lambda a, b, c : a + b + c\n",
    "print(x(5,6,2))"
   ]
  },
  {
   "cell_type": "code",
   "execution_count": 24,
   "id": "00e040be",
   "metadata": {},
   "outputs": [],
   "source": [
    "# Using Lambda Function with filter()\n",
    "\n",
    "# The filter() method accepts two arguments in Python: a function and an iterable such as a list.\n",
    "\n",
    "# As the name suggests, the filter() function in Python will help us to filter the lists."
   ]
  },
  {
   "cell_type": "code",
   "execution_count": 30,
   "id": "ccde9175",
   "metadata": {},
   "outputs": [
    {
     "name": "stdout",
     "output_type": "stream",
     "text": [
      "[55, 75, 13, 63]\n"
     ]
    }
   ],
   "source": [
    "list1 = [34, 12, 64, 55, 75, 13, 63]  \n",
    "\n",
    "odd_list = list(filter( lambda num: (num % 2 != 0) , list1 ))  \n",
    "\n",
    "print(odd_list)"
   ]
  },
  {
   "cell_type": "code",
   "execution_count": 32,
   "id": "663dfc0d",
   "metadata": {},
   "outputs": [
    {
     "name": "stdout",
     "output_type": "stream",
     "text": [
      "[2, 4, 6, 8]\n"
     ]
    }
   ],
   "source": [
    "numbers = [1,2,3,4,5,6,7,8]\n",
    "\n",
    "even_no = list(filter((lambda x : x%2==0),numbers))\n",
    "\n",
    "print(even_no)"
   ]
  },
  {
   "cell_type": "code",
   "execution_count": 33,
   "id": "8a97f0e3",
   "metadata": {},
   "outputs": [],
   "source": [
    "# Using Lambda Function with map()\n",
    "\n",
    "# The Python map() function is mostly used to modify the items in the list."
   ]
  },
  {
   "cell_type": "code",
   "execution_count": 34,
   "id": "6b2495a8",
   "metadata": {},
   "outputs": [
    {
     "name": "stdout",
     "output_type": "stream",
     "text": [
      "[1, 4, 9, 16, 25, 36, 49, 64, 81, 100]\n"
     ]
    }
   ],
   "source": [
    "numbers = [1, 2, 3, 4, 5, 6, 7, 8, 9, 10]\n",
    "\n",
    "sq_numbers = list(map((lambda x : x*x),numbers))\n",
    "\n",
    "print(sq_numbers)"
   ]
  },
  {
   "cell_type": "code",
   "execution_count": 35,
   "id": "0b8810f2",
   "metadata": {},
   "outputs": [],
   "source": [
    "# 3. Use of the Python Lambda Function Inside reduce() Function\n",
    "\n",
    "# The Python reduce() function is mostly used to reduce the entire list into a single result."
   ]
  },
  {
   "cell_type": "code",
   "execution_count": 36,
   "id": "d5aa84a3",
   "metadata": {},
   "outputs": [
    {
     "name": "stdout",
     "output_type": "stream",
     "text": [
      "21\n"
     ]
    }
   ],
   "source": [
    "from functools import reduce\n",
    "\n",
    "numbers = [ 1, 2, 3, 4, 5, 6]\n",
    "\n",
    "sum = reduce((lambda x, y: x + y), numbers)\n",
    "\n",
    "print(sum)"
   ]
  },
  {
   "cell_type": "markdown",
   "id": "3b2bafdb",
   "metadata": {},
   "source": [
    "# Python File handling"
   ]
  },
  {
   "cell_type": "code",
   "execution_count": 37,
   "id": "f18eb3d8",
   "metadata": {},
   "outputs": [],
   "source": [
    "# File handling is an important part of any web application.\n",
    "\n",
    "# Python has several functions for creating, reading, updating, and deleting files."
   ]
  },
  {
   "cell_type": "code",
   "execution_count": 38,
   "id": "3bdf6ba4",
   "metadata": {},
   "outputs": [],
   "source": [
    "# The key function for working with files in Python is the open() function.\n",
    "\n",
    "# The open() function takes two parameters; filename, and mode.\n",
    "\n",
    "# There are four different methods (modes) for opening a file:\n",
    "\n",
    "# \"r\" - Read - Default value. Opens a file for reading, error if the file does not exist\n",
    "\n",
    "# \"a\" - Append - Opens a file for appending, creates the file if it does not exist\n",
    "\n",
    "# \"w\" - Write - Opens a file for writing, creates the file if it does not exist\n",
    "\n",
    "# \"x\" - Create - Creates the specified file, returns an error if the file exists"
   ]
  },
  {
   "cell_type": "code",
   "execution_count": 39,
   "id": "445a104c",
   "metadata": {},
   "outputs": [
    {
     "name": "stdout",
     "output_type": "stream",
     "text": [
      "C:\\Users\\HP\\Downloads\n"
     ]
    }
   ],
   "source": [
    "import os\n",
    "print(os.getcwd())"
   ]
  },
  {
   "cell_type": "code",
   "execution_count": 43,
   "id": "a5445637",
   "metadata": {},
   "outputs": [],
   "source": [
    "f = open('demo.txt','x')"
   ]
  },
  {
   "cell_type": "code",
   "execution_count": 44,
   "id": "c7c2174d",
   "metadata": {},
   "outputs": [],
   "source": [
    "# Write to an Existing File\n",
    "\n",
    "# To write to an existing file, you must add a parameter to the open() function:\n",
    "\n",
    "# \"a\" Append - will append to the end of the file\n",
    "\n",
    "# \"w - Write - will overwrite any existing content"
   ]
  },
  {
   "cell_type": "code",
   "execution_count": 48,
   "id": "f86bd891",
   "metadata": {},
   "outputs": [],
   "source": [
    "f = open('demo.txt','w')\n",
    "f.write(\"Hello! Welcome to demofile.txt\\n This file is for testing purposes.\")\n",
    "f.close()"
   ]
  },
  {
   "cell_type": "code",
   "execution_count": 49,
   "id": "2b5ef737",
   "metadata": {},
   "outputs": [],
   "source": [
    "# Read Files\n",
    "\n",
    "# The open() function returns a file object, which has a read() method for reading the content of the file:"
   ]
  },
  {
   "cell_type": "code",
   "execution_count": 50,
   "id": "1fba299d",
   "metadata": {},
   "outputs": [
    {
     "name": "stdout",
     "output_type": "stream",
     "text": [
      "Hello! Welcome to demofile.txt\n",
      " This file is for testing purposes.\n"
     ]
    }
   ],
   "source": [
    "f = open('demo.txt','r')\n",
    "print(f.read())"
   ]
  },
  {
   "cell_type": "code",
   "execution_count": 51,
   "id": "77b4dc0e",
   "metadata": {},
   "outputs": [],
   "source": [
    "# Read Only Parts of the File\n",
    "\n",
    "# By default the read() method returns the whole text, but you can also specify how many characters you want to return:"
   ]
  },
  {
   "cell_type": "code",
   "execution_count": 53,
   "id": "188f159b",
   "metadata": {},
   "outputs": [
    {
     "name": "stdout",
     "output_type": "stream",
     "text": [
      "Hello\n"
     ]
    }
   ],
   "source": [
    "f = open('demo.txt','r')\n",
    "print(f.read(5))"
   ]
  },
  {
   "cell_type": "code",
   "execution_count": 54,
   "id": "ddc2a22c",
   "metadata": {},
   "outputs": [],
   "source": [
    "# Read Lines\n",
    "\n",
    "# You can return one line by using the readline() method:"
   ]
  },
  {
   "cell_type": "code",
   "execution_count": 55,
   "id": "72156e12",
   "metadata": {},
   "outputs": [
    {
     "name": "stdout",
     "output_type": "stream",
     "text": [
      "Hello! Welcome to demofile.txt\n",
      "\n"
     ]
    }
   ],
   "source": [
    "f = open('demo.txt','r')\n",
    "print(f.readline())"
   ]
  },
  {
   "cell_type": "code",
   "execution_count": 56,
   "id": "7f2b1604",
   "metadata": {},
   "outputs": [
    {
     "name": "stdout",
     "output_type": "stream",
     "text": [
      "Hello! Welcome to demofile.txt\n",
      "\n",
      " This file is for testing purposes.\n"
     ]
    }
   ],
   "source": [
    "f = open('demo.txt','r')\n",
    "print(f.readline())\n",
    "print(f.readline())"
   ]
  },
  {
   "cell_type": "markdown",
   "id": "f78275aa",
   "metadata": {},
   "source": [
    "# OOPS in Python"
   ]
  },
  {
   "cell_type": "code",
   "execution_count": 57,
   "id": "6a1baf56",
   "metadata": {},
   "outputs": [],
   "source": [
    "# Like other general-purpose programming languages, Python is also an object-oriented language since its beginning. \n",
    "# It allows us to develop applications using an Object-Oriented approach. \n",
    "# In Python, we can easily create and use classes and objects."
   ]
  },
  {
   "cell_type": "code",
   "execution_count": 58,
   "id": "74332e7f",
   "metadata": {},
   "outputs": [],
   "source": [
    "# An object-oriented paradigm is to design the program using classes and objects. \n",
    "# The object is related to real-word entities such as book, house, pencil, etc. The oops concept focuses on writing the reusable code. \n",
    "# It is a widespread technique to solve the problem by creating objects."
   ]
  },
  {
   "cell_type": "code",
   "execution_count": 59,
   "id": "74acd8a3",
   "metadata": {},
   "outputs": [],
   "source": [
    "# Major principles of object-oriented programming system are given below.\n",
    "\n",
    "# Class\n",
    "# Object\n",
    "# Method\n",
    "# Inheritance\n",
    "# Polymorphism\n",
    "# Data Abstraction\n",
    "# Encapsulation"
   ]
  },
  {
   "cell_type": "code",
   "execution_count": 60,
   "id": "277cddba",
   "metadata": {},
   "outputs": [],
   "source": [
    "# Class:-\n",
    "\n",
    "# A class is a collection of objects. \n",
    "# A class contains the blueprints or the prototype from which the objects are being created. \n",
    "# It is a logical entity that contains some attributes and methods. "
   ]
  },
  {
   "cell_type": "code",
   "execution_count": 61,
   "id": "1d9bdae5",
   "metadata": {},
   "outputs": [],
   "source": [
    "# Classes are created by keyword class.\n",
    "# Attributes are the variables that belong to a class.\n",
    "# Attributes are always public and can be accessed using the dot (.) operator. Eg.: Myclass.Myattribute"
   ]
  },
  {
   "cell_type": "code",
   "execution_count": 62,
   "id": "edcbd36a",
   "metadata": {},
   "outputs": [],
   "source": [
    "# Creating an empty Class in Python\n",
    "\n",
    "class Dog:\n",
    "    pass"
   ]
  },
  {
   "cell_type": "code",
   "execution_count": 63,
   "id": "7f2a182a",
   "metadata": {},
   "outputs": [],
   "source": [
    "# Objects:-\n",
    "\n",
    "# The object is an entity that has a state and behavior associated with it.\n",
    "# It may be any real-world object like a mouse, keyboard, chair, table, pen, etc. Integers, strings, floating-point numbers, even arrays, and dictionaries, are all objects."
   ]
  },
  {
   "cell_type": "code",
   "execution_count": 64,
   "id": "0aaddc16",
   "metadata": {},
   "outputs": [],
   "source": [
    "# Creating an object\n",
    "\n",
    "obj = Dog()"
   ]
  },
  {
   "cell_type": "code",
   "execution_count": 65,
   "id": "c76f9c27",
   "metadata": {},
   "outputs": [],
   "source": [
    "# self in Python class\n",
    "# self represents the instance of the class.\n",
    "# By using the “self”  we can access the attributes and methods of the class in python"
   ]
  },
  {
   "cell_type": "code",
   "execution_count": 66,
   "id": "b577e43e",
   "metadata": {},
   "outputs": [
    {
     "name": "stdout",
     "output_type": "stream",
     "text": [
      "Address of self =  2554182971104\n",
      "Address of class object =  2554182971104\n"
     ]
    }
   ],
   "source": [
    "class check:\n",
    "    def __init__(self):\n",
    "        print(\"Address of self = \",id(self))\n",
    "  \n",
    "obj = check()\n",
    "print(\"Address of class object = \",id(obj))"
   ]
  },
  {
   "cell_type": "code",
   "execution_count": 67,
   "id": "3a7ac7b2",
   "metadata": {},
   "outputs": [],
   "source": [
    "# The __init__ method \n",
    "# The __init__ method is similar to constructors in C++ and Java.\n",
    "# It is run as soon as an object of a class is instantiated.\n",
    "# The method is useful to do any initialization you want to do with your object. "
   ]
  },
  {
   "cell_type": "code",
   "execution_count": 69,
   "id": "69d03c76",
   "metadata": {},
   "outputs": [
    {
     "name": "stdout",
     "output_type": "stream",
     "text": [
      "ID: 10 \n",
      "Name: John\n"
     ]
    }
   ],
   "source": [
    "class Employee:    \n",
    "    id = 10   \n",
    "    name = \"John\"    \n",
    "    def display (self):    \n",
    "        print(\"ID: %d \\nName: %s\"%(self.id,self.name))    \n",
    "# Creating a emp instance of Employee class  \n",
    "emp = Employee()    \n",
    "emp.display()    "
   ]
  },
  {
   "cell_type": "code",
   "execution_count": 70,
   "id": "4bbd65fa",
   "metadata": {},
   "outputs": [
    {
     "name": "stdout",
     "output_type": "stream",
     "text": [
      "ID: 101 \n",
      "Name: hemant\n",
      "ID: 102 \n",
      "Name: rohini\n"
     ]
    }
   ],
   "source": [
    "class Employee:  \n",
    "    def __init__(self, name, id):  \n",
    "        self.id = id  \n",
    "        self.name = name  \n",
    "  \n",
    "    def display(self):  \n",
    "        print(\"ID: %d \\nName: %s\" % (self.id, self.name))  \n",
    "  \n",
    "  \n",
    "emp1 = Employee(\"hemant\", 101)  \n",
    "emp2 = Employee(\"rohini\", 102)  \n",
    "  \n",
    "# accessing display() method to print employee 1 information  \n",
    "  \n",
    "emp1.display()  \n",
    "  \n",
    "# accessing display() method to print employee 2 information  \n",
    "emp2.display()  "
   ]
  },
  {
   "cell_type": "code",
   "execution_count": 71,
   "id": "c006347b",
   "metadata": {},
   "outputs": [],
   "source": [
    "# Inheritance\n",
    "\n",
    "# Inheritance is the ability to ‘inherit’ features or attributes from already written classes into newer classes we make.\n",
    "\n",
    "# In python inheritance, new classes inherits from older classes."
   ]
  },
  {
   "cell_type": "code",
   "execution_count": 72,
   "id": "bce0b0c6",
   "metadata": {},
   "outputs": [],
   "source": [
    "# Types of Inheritance in Python\n",
    "\n",
    "# Single Inheritance in Python\n",
    "# Multiple Inheritance in Python\n",
    "# Multilevel Inheritance in Python\n",
    "# Hierarchical Inheritance in Python\n",
    "# Hybrid Inheritance in Python"
   ]
  },
  {
   "cell_type": "code",
   "execution_count": 74,
   "id": "5d2c3308",
   "metadata": {},
   "outputs": [],
   "source": [
    "# # Single Inheritance in Python\n",
    "\n",
    "\n",
    "# Single Inheritance is the simplest form of inheritance where a single child class is derived from a single parent class. \n",
    "# Due to its candid nature, it is also known as Simple Inheritance."
   ]
  },
  {
   "cell_type": "code",
   "execution_count": 76,
   "id": "489713f2",
   "metadata": {},
   "outputs": [
    {
     "name": "stdout",
     "output_type": "stream",
     "text": [
      "Hello Parent\n",
      "Hello Child\n"
     ]
    }
   ],
   "source": [
    "class Parent:\n",
    "    def func1(self):\n",
    "        print(\"Hello Parent\")\n",
    "class Child(Parent):\n",
    "    def func2(self):\n",
    "        print(\"Hello Child\")\n",
    "test =Child()\n",
    "test.func1()\n",
    "test.func2()"
   ]
  },
  {
   "cell_type": "code",
   "execution_count": 77,
   "id": "e31993ba",
   "metadata": {},
   "outputs": [
    {
     "name": "stdout",
     "output_type": "stream",
     "text": [
      "dog barking\n",
      "Animal Speaking\n"
     ]
    }
   ],
   "source": [
    "class Animal:  \n",
    "    def speak(self):  \n",
    "        print(\"Animal Speaking\")  \n",
    "class Dog(Animal):  \n",
    "    def bark(self):  \n",
    "        print(\"dog barking\")  \n",
    "d = Dog()  \n",
    "d.bark()  \n",
    "d.speak()  "
   ]
  },
  {
   "cell_type": "code",
   "execution_count": 78,
   "id": "ccdb3a9b",
   "metadata": {},
   "outputs": [],
   "source": [
    "# Multiple Inheritance in Python\n",
    "\n",
    "#In multiple inheritance, a single child class is inherited from two or more parent classes. \n",
    "# It means the child class has access to all the parent classes' methods and attributes."
   ]
  },
  {
   "cell_type": "code",
   "execution_count": 80,
   "id": "555262be",
   "metadata": {},
   "outputs": [
    {
     "name": "stdout",
     "output_type": "stream",
     "text": [
      "Hello Parent1\n",
      "Hello Parent2\n",
      "Hello Child\n"
     ]
    }
   ],
   "source": [
    "class parent1:                     # first parent class\n",
    "    def func1(self):                   \n",
    "        print(\"Hello Parent1\")\n",
    " \n",
    "class parent2:                     # second parent class\n",
    "    def func2(self):                   \n",
    "        print(\"Hello Parent2\")\n",
    " \n",
    "class parent3:                     # third parent class\n",
    "    def func2(self):                     # the function name is same as parent2\n",
    "        print(\"Hello Parent3\")\n",
    " \n",
    "class child(parent1, parent2, parent3):     # child class\n",
    "    def func3(self):                     # we include the parent classes\n",
    "        print(\"Hello Child\")       # as an argument comma separated\n",
    "                           \n",
    "# Driver Code\n",
    "test = child()        # object created\n",
    "test.func1()          # parent1 method called via child\n",
    "test.func2()          # parent2 method called via child instead of parent3\n",
    "test.func3()          # child method called\n"
   ]
  },
  {
   "cell_type": "code",
   "execution_count": 82,
   "id": "9f5148f9",
   "metadata": {},
   "outputs": [],
   "source": [
    "# Multilevel Inheritance in Python\n",
    "\n",
    "# In multilevel inheritance, we go beyond just a parent-child relation. \n",
    "# We introduce grandchildren, great-grandchildren, grandparents, etc. \n",
    "# We have seen only two levels of inheritance with a superior parent class/es and a derived class/es, but here we can have multiple levels where the parent class/es itself is derived from another class/es."
   ]
  },
  {
   "cell_type": "code",
   "execution_count": 83,
   "id": "c84d4211",
   "metadata": {},
   "outputs": [
    {
     "name": "stdout",
     "output_type": "stream",
     "text": [
      "Hello Grandparent\n",
      "Hello Parent\n",
      "Hello Child\n"
     ]
    }
   ],
   "source": [
    "class grandparent:                 # first level\n",
    "    def func1(self):                   \n",
    "        print(\"Hello Grandparent\")\n",
    " \n",
    "class parent(grandparent):         # second level\n",
    "    def func2(self):                   \n",
    "        print(\"Hello Parent\")\n",
    " \n",
    "class child(parent):               # third level\n",
    "    def func3(self):                   \n",
    "        print(\"Hello Child\")   \n",
    "                               \n",
    " \n",
    "# Driver Code\n",
    "test = child()                     # object created\n",
    "test.func1()                       # 3rd level calls 1st level\n",
    "test.func2()                       # 3rd level calls 2nd level\n",
    "test.func3()                       # 3rd level calls 3rd level"
   ]
  },
  {
   "cell_type": "code",
   "execution_count": 84,
   "id": "50b53721",
   "metadata": {},
   "outputs": [],
   "source": [
    "# Hierarchical Inheritance in Python\n",
    "\n",
    "# Hierarchical Inheritance is the right opposite of multiple inheritance. It means that, there are multiple derived child classes from a single parent class"
   ]
  },
  {
   "cell_type": "code",
   "execution_count": 85,
   "id": "5369dd6c",
   "metadata": {},
   "outputs": [
    {
     "name": "stdout",
     "output_type": "stream",
     "text": [
      "Hello Parent\n",
      "Hello Child1\n",
      "Hello Parent\n",
      "Hello Child2\n"
     ]
    }
   ],
   "source": [
    "class parent:                       # parent class\n",
    "    def func1(self):                   \n",
    "        print(\"Hello Parent\")\n",
    " \n",
    "class child1(parent):               # first child class\n",
    "    def func2(self):                   \n",
    "        print(\"Hello Child1\")\n",
    " \n",
    " \n",
    "class child2(parent):               # second child class\n",
    "    def func3(self):                   \n",
    "        print(\"Hello Child2\")   \n",
    "                               \n",
    " \n",
    "# Driver Code\n",
    "test1 = child1()                     # objects created\n",
    "test2 = child2() \n",
    " \n",
    "test1.func1()                       # child1 calling parent method\n",
    "test1.func2()                       # child1 calling its own method\n",
    " \n",
    "test2.func1()                       # child2 calling parent method\n",
    "test2.func3()                       # child2 calling its own method"
   ]
  },
  {
   "cell_type": "code",
   "execution_count": 86,
   "id": "8c8cb632",
   "metadata": {},
   "outputs": [],
   "source": [
    "# Hybrid Inheritance in Python\n",
    "\n",
    "# Hybrid Inheritance is the mixture of two or more different types of inheritance. Here we can have many relationships between parent and child classes with multiple levels."
   ]
  },
  {
   "cell_type": "code",
   "execution_count": 87,
   "id": "c9d542c1",
   "metadata": {},
   "outputs": [
    {
     "name": "stdout",
     "output_type": "stream",
     "text": [
      "Hello Parent\n",
      "Hello Child1\n",
      "Hello Parent\n",
      "Hello Parent\n",
      "Hello Child1\n",
      "Hello Child2\n"
     ]
    }
   ],
   "source": [
    "class parent1:                            # first parent class\n",
    "    def func1(self):                   \n",
    "        print(\"Hello Parent\")\n",
    " \n",
    " \n",
    "class parent2:                            # second parent class\n",
    "    def func2(self):                   \n",
    "        print(\"Hello Parent\")\n",
    " \n",
    "class child1(parent1):                    # first child class\n",
    "    def func3(self):                   \n",
    "        print(\"Hello Child1\")\n",
    " \n",
    " \n",
    "class child2(child1, parent2):            # second child class\n",
    "    def func4(self):                   \n",
    "        print(\"Hello Child2\")   \n",
    "                               \n",
    " \n",
    "# Driver Code\n",
    "test1 = child1()                          # object created\n",
    "test2 = child2()\n",
    " \n",
    "test1.func1()                       # child1 calling parent1 method\n",
    "test1.func3()                       # child1 calling its own method\n",
    " \n",
    "test2.func1()                       # child2 calling parent1 method\n",
    "test2.func2()                       # child2 calling parent2 method\n",
    "test2.func3()                       # child2 calling child1 method\n",
    "test2.func4()                       # child2 calling its own method"
   ]
  },
  {
   "cell_type": "code",
   "execution_count": 88,
   "id": "9006b643",
   "metadata": {},
   "outputs": [],
   "source": [
    "# super() function\n",
    "\n",
    "# Method overriding is an ability of any object-oriented programming language that allows a subclass or child class to provide a specific implementation of a method already provided by one of its super-classes or parent classes."
   ]
  },
  {
   "cell_type": "code",
   "execution_count": 89,
   "id": "cec11218",
   "metadata": {},
   "outputs": [
    {
     "name": "stdout",
     "output_type": "stream",
     "text": [
      "50\n"
     ]
    }
   ],
   "source": [
    "class parent:                       # parent class\n",
    " \n",
    "    def __init__(self):             # __init__() of parent\n",
    "        self.attr1 = 50\n",
    "        self.attr2 = 66\n",
    " \n",
    "class child(parent):                # child class\n",
    " \n",
    "    def __init__(self):             # __init__() of child\n",
    "        parent.__init__(self)       # calling parent’s __init__()\n",
    "        self.attr3 = 45\n",
    " \n",
    "test = child()                      # object initiated\n",
    " \n",
    "print (test.attr1) "
   ]
  },
  {
   "cell_type": "code",
   "execution_count": 90,
   "id": "bbfba08f",
   "metadata": {},
   "outputs": [],
   "source": [
    "# issubclass() The issubclass() function is a convenient way to check whether a class is the child of the parent class. \n",
    "# In other words, it checks if the first class is derived from the second class. \n",
    "# If the classes share a parent-child relationship, it returns a boolean value of True. Otherwise, False."
   ]
  },
  {
   "cell_type": "code",
   "execution_count": 91,
   "id": "ee0f507d",
   "metadata": {},
   "outputs": [],
   "source": [
    "# isinstance() isinstance() is another inbuilt function of python which allows us to check whether an object is an instance of a particular class or any of the classes it has been derived from. "
   ]
  },
  {
   "cell_type": "code",
   "execution_count": 93,
   "id": "80d8b006",
   "metadata": {},
   "outputs": [
    {
     "name": "stdout",
     "output_type": "stream",
     "text": [
      "True\n",
      "False\n",
      "True\n",
      "True\n",
      "False\n",
      "True\n"
     ]
    }
   ],
   "source": [
    "class parent:                     # parent class\n",
    "    def func1():                   \n",
    "        print(\"Hello Parent\")\n",
    " \n",
    "class child(parent):              # child class\n",
    "    def func2():                 \n",
    "        print(\"Hello Child\")  \n",
    "                                \n",
    " \n",
    "# Driver Code\n",
    " \n",
    "print(issubclass(child,parent))          # checks if child is subclass of parent\n",
    " \n",
    "print(issubclass(parent,child))          # checks if parent is subclass of child\n",
    " \n",
    "A = child()                        # objects initialized\n",
    "B = parent()\n",
    " \n",
    "print(isinstance(A,child))                # checks if A is instance of child\n",
    "print(isinstance(A,parent))               # checks if A is instance of parent\n",
    "print(isinstance(B,child))                # checks if B is instance of child\n",
    "print(isinstance(B,parent))            # checks if B is instance of parent"
   ]
  },
  {
   "cell_type": "code",
   "execution_count": 94,
   "id": "78af1e5d",
   "metadata": {},
   "outputs": [],
   "source": [
    "# Encapsulation in Python\n",
    "\n",
    "# Encapsulation is one of the cornerstone concepts of OOP.\n",
    "\n",
    "# The basic idea of Encapsulation is to wrap up both data and methods into one single unit."
   ]
  },
  {
   "cell_type": "code",
   "execution_count": 96,
   "id": "d95848c5",
   "metadata": {},
   "outputs": [],
   "source": [
    "# Why do we need Encapsulation in Python?\n",
    "\n",
    "# The primary advantage of using Encapsulation in Python is that as a user, we do not need to know the architecture of the methods and the data and can just focus on making use of these functional, encapsulated units for our applications. \n",
    "\n",
    "# Another advantage of encapsulation is that it prevents the accidental modification of the data and methods"
   ]
  },
  {
   "cell_type": "code",
   "execution_count": 97,
   "id": "977b3417",
   "metadata": {},
   "outputs": [],
   "source": [
    "# Public Members\n",
    "# Private Members\n",
    "# Protected Members"
   ]
  },
  {
   "cell_type": "code",
   "execution_count": 98,
   "id": "4ecf48b9",
   "metadata": {},
   "outputs": [],
   "source": [
    "# Encapsulation in Python using public members\n",
    "\n",
    "# As the name suggests, the public modifier allows variables and functions to be accessible from anywhere within the class and from any part of the program"
   ]
  },
  {
   "cell_type": "code",
   "execution_count": 100,
   "id": "68ca532a",
   "metadata": {},
   "outputs": [
    {
     "name": "stdout",
     "output_type": "stream",
     "text": [
      "Name:  Hemant\n",
      "Age:  31\n"
     ]
    }
   ],
   "source": [
    "class pub_mod:\n",
    "    # constructor\n",
    "    def __init__(self, name, age):\n",
    "        self.name = name;\n",
    "        self.age = age;\n",
    " \n",
    "    def Age(self): \n",
    "        # accessing public data member \n",
    "        print(\"Age: \", self.age)\n",
    "# creating object \n",
    "obj = pub_mod(\"Hemant\", 31);\n",
    "# accessing public data member \n",
    "print(\"Name: \", obj.name)  \n",
    "# calling public member function of the class \n",
    "obj.Age()"
   ]
  },
  {
   "cell_type": "code",
   "execution_count": 101,
   "id": "325109d4",
   "metadata": {},
   "outputs": [],
   "source": [
    "# Encapsulation in Python using private members\n",
    "\n",
    "# The private access modifier allows member methods and variables to be accessed only within the class.\n",
    "\n",
    "# specify a private access modifier for a member, we make use of the double underscore __."
   ]
  },
  {
   "cell_type": "code",
   "execution_count": 104,
   "id": "961480d8",
   "metadata": {},
   "outputs": [
    {
     "name": "stdout",
     "output_type": "stream",
     "text": [
      "5\n",
      "3\n"
     ]
    },
    {
     "ename": "AttributeError",
     "evalue": "'Rectangle' object has no attribute 'length'",
     "output_type": "error",
     "traceback": [
      "\u001b[1;31m---------------------------------------------------------------------------\u001b[0m",
      "\u001b[1;31mAttributeError\u001b[0m                            Traceback (most recent call last)",
      "Input \u001b[1;32mIn [104]\u001b[0m, in \u001b[0;36m<cell line: 14>\u001b[1;34m()\u001b[0m\n\u001b[0;32m     12\u001b[0m rect \u001b[38;5;241m=\u001b[39m Rectangle() \u001b[38;5;66;03m#object created \u001b[39;00m\n\u001b[0;32m     13\u001b[0m \u001b[38;5;66;03m#printing values of the private variable outside the class \u001b[39;00m\n\u001b[1;32m---> 14\u001b[0m \u001b[38;5;28mprint\u001b[39m(\u001b[43mrect\u001b[49m\u001b[38;5;241;43m.\u001b[39;49m\u001b[43mlength\u001b[49m)\n\u001b[0;32m     15\u001b[0m \u001b[38;5;28mprint\u001b[39m(rect\u001b[38;5;241m.\u001b[39mbreadth)\n",
      "\u001b[1;31mAttributeError\u001b[0m: 'Rectangle' object has no attribute 'length'"
     ]
    }
   ],
   "source": [
    "class Rectangle:\n",
    "  __length = 0 #private variable\n",
    "  __breadth = 0#private variable\n",
    "  def __init__(self): \n",
    "    #constructor\n",
    "    self.__length = 5\n",
    "    self.__breadth = 3\n",
    "    #printing values of the private variable within the class\n",
    "    print(self.__length)\n",
    "    print(self.__breadth)\n",
    "    \n",
    "rect = Rectangle() #object created \n",
    "#printing values of the private variable outside the class \n",
    "print(rect.length)\n",
    "print(rect.breadth)"
   ]
  },
  {
   "cell_type": "code",
   "execution_count": 105,
   "id": "5a78819e",
   "metadata": {},
   "outputs": [
    {
     "name": "stdout",
     "output_type": "stream",
     "text": [
      "Jason\n",
      "35\n",
      "Developer\n"
     ]
    }
   ],
   "source": [
    "class details:\n",
    "    _name=\"Jason\"\n",
    "    _age=35\n",
    "    _job=\"Developer\"\n",
    "class pro_mod(details):\n",
    "    def __init__(self):\n",
    "        print(self._name)\n",
    "        print(self._age)\n",
    "        print(self._job)\n",
    " \n",
    "# creating object of the class \n",
    "obj = pro_mod()"
   ]
  },
  {
   "cell_type": "code",
   "execution_count": 106,
   "id": "2a7e0f4c",
   "metadata": {},
   "outputs": [],
   "source": [
    "# Encapsulation in Python using protected members\n",
    "\n",
    "# What sets protected members apart from private members is that they allow the members to be accessed within the class and allow them to be accessed by the sub-classes involved. \n",
    "# In Python, we demonstrate a protected member by prefixing with an underscore _ before its name"
   ]
  },
  {
   "cell_type": "code",
   "execution_count": 107,
   "id": "94c0ca2f",
   "metadata": {},
   "outputs": [
    {
     "name": "stdout",
     "output_type": "stream",
     "text": [
      "Jason\n",
      "35\n",
      "Developer\n"
     ]
    },
    {
     "ename": "AttributeError",
     "evalue": "'pro_mod' object has no attribute 'name'",
     "output_type": "error",
     "traceback": [
      "\u001b[1;31m---------------------------------------------------------------------------\u001b[0m",
      "\u001b[1;31mAttributeError\u001b[0m                            Traceback (most recent call last)",
      "Input \u001b[1;32mIn [107]\u001b[0m, in \u001b[0;36m<cell line: 14>\u001b[1;34m()\u001b[0m\n\u001b[0;32m     12\u001b[0m obj \u001b[38;5;241m=\u001b[39m pro_mod()\n\u001b[0;32m     13\u001b[0m \u001b[38;5;66;03m# direct access of protected member\u001b[39;00m\n\u001b[1;32m---> 14\u001b[0m \u001b[38;5;28mprint\u001b[39m(\u001b[38;5;124m\"\u001b[39m\u001b[38;5;124mName:\u001b[39m\u001b[38;5;124m\"\u001b[39m,\u001b[43mobj\u001b[49m\u001b[38;5;241;43m.\u001b[39;49m\u001b[43mname\u001b[49m)\n\u001b[0;32m     15\u001b[0m \u001b[38;5;28mprint\u001b[39m(\u001b[38;5;124m\"\u001b[39m\u001b[38;5;124mAge:\u001b[39m\u001b[38;5;124m\"\u001b[39m,obj\u001b[38;5;241m.\u001b[39mage)\n",
      "\u001b[1;31mAttributeError\u001b[0m: 'pro_mod' object has no attribute 'name'"
     ]
    }
   ],
   "source": [
    "class details:\n",
    "    _name=\"Jason\"\n",
    "    _age=35\n",
    "    _job=\"Developer\"\n",
    "class pro_mod(details):\n",
    "    def __init__(self):\n",
    "        print(self._name)\n",
    "        print(self._age)\n",
    "        print(self._job)\n",
    " \n",
    "# creating object of the class \n",
    "obj = pro_mod()\n",
    "# direct access of protected member\n",
    "print(\"Name:\",obj.name)\n",
    "print(\"Age:\",obj.age)"
   ]
  },
  {
   "cell_type": "code",
   "execution_count": 108,
   "id": "5cf7d40c",
   "metadata": {},
   "outputs": [],
   "source": [
    "# Polymorphism in Python\n",
    "\n",
    "# The literal meaning of Polymorphism is - having different forms.\n",
    "\n",
    "# Now coming to the world of programming, Polymorphism refers to a function having the same name but being used in different ways and different scenarios. This makes programming easier and more intuitive."
   ]
  },
  {
   "cell_type": "code",
   "execution_count": 109,
   "id": "8c3b3b17",
   "metadata": {},
   "outputs": [
    {
     "name": "stdout",
     "output_type": "stream",
     "text": [
      "Meow\n",
      "I am a cat. My name is Kitty. I am 2.5 years old.\n",
      "Meow\n",
      "Moo\n",
      "I am a Cow. My name is Fluffy. I am 4 years old.\n",
      "Moo\n"
     ]
    }
   ],
   "source": [
    "class Cat:\n",
    "    def __init__(self, name, age):\n",
    "        self.name = name\n",
    "        self.age = age\n",
    " \n",
    "    def info(self):\n",
    "        print(f\"I am a cat. My name is {self.name}. I am {self.age} years old.\")\n",
    " \n",
    "    def make_sound(self):\n",
    "        print(\"Meow\")\n",
    " \n",
    " \n",
    "class Cow:\n",
    "    def __init__(self, name, age):\n",
    "        self.name = name\n",
    "        self.age = age\n",
    " \n",
    "    def info(self):\n",
    "        print(f\"I am a Cow. My name is {self.name}. I am {self.age} years old.\")\n",
    " \n",
    "    def make_sound(self):\n",
    "        print(\"Moo\")\n",
    "cat1 = Cat(\"Kitty\", 2.5)\n",
    "cow1 = Cow(\"Fluffy\", 4)\n",
    " \n",
    "for animal in (cat1, cow1):\n",
    "    animal.make_sound()\n",
    "    animal.info()\n",
    "    animal.make_sound()"
   ]
  },
  {
   "cell_type": "code",
   "execution_count": 110,
   "id": "0f1f28b3",
   "metadata": {},
   "outputs": [],
   "source": [
    "# Data Abstraction in Python\n",
    "\n",
    "# Abstraction is really powerful for making complex tasks and codes simpler when used in Object-Oriented Programming.\n",
    "\n",
    "# It reduces the complexity for the user by making the relevant part accessible and usable leaving the unnecessary code hidden."
   ]
  },
  {
   "cell_type": "code",
   "execution_count": 112,
   "id": "1107b5a8",
   "metadata": {},
   "outputs": [
    {
     "ename": "IndentationError",
     "evalue": "unindent does not match any outer indentation level (<tokenize>, line 7)",
     "output_type": "error",
     "traceback": [
      "\u001b[1;36m  File \u001b[1;32m<tokenize>:7\u001b[1;36m\u001b[0m\n\u001b[1;33m    @abstractmethod\u001b[0m\n\u001b[1;37m    ^\u001b[0m\n\u001b[1;31mIndentationError\u001b[0m\u001b[1;31m:\u001b[0m unindent does not match any outer indentation level\n"
     ]
    }
   ],
   "source": [
    "from abc import ABC, abstractmethod\n",
    "\n",
    "class Parent(ABC):\n",
    "  #common function\n",
    "  def common_fn(self):\n",
    "    print('In the common method of Parent')\n",
    " @abstractmethod\n",
    "  def abs_fn(self): #is supposed to have different implementation in child classes \n",
    "    pass\n",
    "\n",
    "class Child1(Parent):\n",
    "  def abs_fn(self):\n",
    "    print('In the abstract method of Child1')\n",
    "\n",
    "class Child2(Parent):\n",
    "  def abs_fn(self):\n",
    "    print('In the abstract method of Child2')"
   ]
  },
  {
   "cell_type": "code",
   "execution_count": 115,
   "id": "fdb7fffc",
   "metadata": {},
   "outputs": [
    {
     "ename": "IndentationError",
     "evalue": "unexpected indent (3659518208.py, line 12)",
     "output_type": "error",
     "traceback": [
      "\u001b[1;36m  Input \u001b[1;32mIn [115]\u001b[1;36m\u001b[0m\n\u001b[1;33m    pass\u001b[0m\n\u001b[1;37m    ^\u001b[0m\n\u001b[1;31mIndentationError\u001b[0m\u001b[1;31m:\u001b[0m unexpected indent\n"
     ]
    }
   ],
   "source": [
    "from abc import ABC,abstractmethod\n",
    " \n",
    "class Animal(ABC):\n",
    " \n",
    "    #concrete method\n",
    "    def sleep(self):\n",
    "        print(\"I am going to sleep in a while\")\n",
    " \n",
    "    @abstractmethod\n",
    "    def sound(self):\n",
    "      print(\"This function is for defining the sound by any animal\")\n",
    "        pass\n",
    " \n",
    "class Snake(Animal):\n",
    "    def sound(self):\n",
    "        print(\"I can hiss\")\n",
    " \n",
    "class Dog(Animal):\n",
    "    def sound(self):\n",
    "        print(\"I can bark\")\n",
    " \n",
    "class Lion(Animal):\n",
    "    def sound(self):\n",
    "        print(\"I can roar\")\n",
    "       \n",
    "class Cat(Animal):\n",
    "    def sound(self):\n",
    "        print(\"I can meow\")"
   ]
  },
  {
   "cell_type": "markdown",
   "id": "410e0b12",
   "metadata": {},
   "source": [
    "# Python Generators"
   ]
  },
  {
   "cell_type": "code",
   "execution_count": 1,
   "id": "aac184f9",
   "metadata": {},
   "outputs": [],
   "source": [
    "# In Python, a generator is a function that returns an iterator that produces a sequence of values when iterated over.\n",
    "\n",
    "# Generators are useful when we want to produce a large sequence of values, but we don't want to store all of them in memory at once."
   ]
  },
  {
   "cell_type": "code",
   "execution_count": 2,
   "id": "fe6a00c8",
   "metadata": {},
   "outputs": [],
   "source": [
    "# Create Python Generator\n",
    "\n",
    "# Generator are function that return a sequence of values. We use yield statement to return the value from function.\n",
    "\n",
    "\n",
    "# yield statement:- Yield statement return the element from a generator function into a generator object.\n",
    "\n",
    "\n",
    "# next():- This function is used to retrive element by element from a generator object.\n",
    "\n",
    "\n",
    "# In Python, similar to defining a normal function, we can define a generator function using the def keyword, but instead of the return statement we use the yield statement.\n"
   ]
  },
  {
   "cell_type": "code",
   "execution_count": null,
   "id": "05687c85",
   "metadata": {},
   "outputs": [
    {
     "ename": "",
     "evalue": "",
     "output_type": "error",
     "traceback": [
      "\u001b[1;31mRunning cells with 'c:\\Users\\HP\\AppData\\Local\\Programs\\Python\\Python311\\python.exe' requires the ipykernel package.\n",
      "\u001b[1;31mRun the following command to install 'ipykernel' into the Python environment. \n",
      "\u001b[1;31mCommand: 'c:/Users/HP/AppData/Local/Programs/Python/Python311/python.exe -m pip install ipykernel -U --user --force-reinstall'"
     ]
    }
   ],
   "source": [
    "def disp(a,b):\n",
    "    yield a\n",
    "    yield b\n",
    "x, y=disp(10,20)\n",
    "print(x)\n",
    "print(y)"
   ]
  },
  {
   "cell_type": "code",
   "execution_count": 6,
   "id": "62b949a8",
   "metadata": {},
   "outputs": [
    {
     "name": "stdout",
     "output_type": "stream",
     "text": [
      "0\n",
      "2\n",
      "4\n",
      "6\n",
      "8\n"
     ]
    }
   ],
   "source": [
    "def simple()\n",
    "    for i in range(10):\n",
    "        if(i%2==0):\n",
    "            yield i\n",
    "for i in simple():\n",
    "    print(i)"
   ]
  },
  {
   "cell_type": "markdown",
   "id": "4b6367a9",
   "metadata": {},
   "source": [
    "# Python Decorators"
   ]
  },
  {
   "cell_type": "code",
   "execution_count": 7,
   "id": "2301feb5",
   "metadata": {},
   "outputs": [],
   "source": [
    "# In Python, a decorator is a design pattern that allows you to modify the functionality of a function by wrapping it in another function."
   ]
  },
  {
   "cell_type": "code",
   "execution_count": 8,
   "id": "002c75f6",
   "metadata": {},
   "outputs": [],
   "source": [
    "# The outer function is called the decorator, which takes the original function as an argument and returns a modified version of it."
   ]
  },
  {
   "cell_type": "code",
   "execution_count": 9,
   "id": "273b3a4b",
   "metadata": {},
   "outputs": [
    {
     "name": "stdout",
     "output_type": "stream",
     "text": [
      "I got decorated\n",
      "I am ordinary\n"
     ]
    }
   ],
   "source": [
    "def make_pretty(func):\n",
    "\n",
    "    def inner():\n",
    "        print(\"I got decorated\")\n",
    "        func()\n",
    "    return inner\n",
    "\n",
    "@make_pretty\n",
    "def ordinary():\n",
    "    print(\"I am ordinary\")\n",
    "\n",
    "ordinary() "
   ]
  },
  {
   "cell_type": "markdown",
   "id": "fa3dda2f",
   "metadata": {},
   "source": [
    "# Python Dates"
   ]
  },
  {
   "cell_type": "code",
   "execution_count": 1,
   "id": "f1aa1973",
   "metadata": {},
   "outputs": [],
   "source": [
    "# A date in Python is not a data type of its own, but we can import a module named datetime to work with dates as date objects."
   ]
  },
  {
   "cell_type": "code",
   "execution_count": 2,
   "id": "6f6000a4",
   "metadata": {},
   "outputs": [
    {
     "name": "stdout",
     "output_type": "stream",
     "text": [
      "2023-07-02 10:51:42.326943\n"
     ]
    }
   ],
   "source": [
    "import datetime\n",
    "\n",
    "x = datetime.datetime.now()\n",
    "\n",
    "print(x)"
   ]
  },
  {
   "cell_type": "code",
   "execution_count": 3,
   "id": "8c89406e",
   "metadata": {},
   "outputs": [
    {
     "name": "stdout",
     "output_type": "stream",
     "text": [
      "2023\n",
      "Sunday\n"
     ]
    }
   ],
   "source": [
    "import datetime\n",
    "\n",
    "x = datetime.datetime.now()\n",
    "\n",
    "print(x.year)\n",
    "print(x.strftime(\"%A\"))"
   ]
  },
  {
   "cell_type": "markdown",
   "id": "8658128f",
   "metadata": {},
   "source": [
    "# Creating Date Objects"
   ]
  },
  {
   "cell_type": "code",
   "execution_count": 4,
   "id": "ce2d2304",
   "metadata": {},
   "outputs": [],
   "source": [
    "# To create a date, we can use the datetime() class (constructor) of the datetime module."
   ]
  },
  {
   "cell_type": "code",
   "execution_count": 6,
   "id": "c7032115",
   "metadata": {},
   "outputs": [
    {
     "name": "stdout",
     "output_type": "stream",
     "text": [
      "2023-07-02 00:00:00\n"
     ]
    }
   ],
   "source": [
    "import datetime\n",
    "\n",
    "x = datetime.datetime(2023, 7, 2)\n",
    "\n",
    "print(x)"
   ]
  },
  {
   "cell_type": "markdown",
   "id": "c8203f5a",
   "metadata": {},
   "source": [
    "# Python RegEx"
   ]
  },
  {
   "cell_type": "code",
   "execution_count": 7,
   "id": "077670a0",
   "metadata": {},
   "outputs": [],
   "source": [
    "# A RegEx, or Regular Expression, is a sequence of characters that forms a search pattern."
   ]
  },
  {
   "cell_type": "markdown",
   "id": "0ce7ac01",
   "metadata": {},
   "source": [
    "# RegEx Module"
   ]
  },
  {
   "cell_type": "code",
   "execution_count": 8,
   "id": "ea1b70fa",
   "metadata": {},
   "outputs": [],
   "source": [
    "# Python has a built-in package called re, which can be used to work with Regular Expressions."
   ]
  },
  {
   "cell_type": "code",
   "execution_count": 9,
   "id": "7c7a3688",
   "metadata": {},
   "outputs": [
    {
     "name": "stdout",
     "output_type": "stream",
     "text": [
      "YES! We have a match!\n"
     ]
    }
   ],
   "source": [
    "import re\n",
    "\n",
    "txt = \"The rain in Spain\"\n",
    "x = re.search(\"^The.*Spain$\", txt)\n",
    "if x:\n",
    "  print(\"YES! We have a match!\")\n",
    "else:\n",
    "  print(\"No match\")"
   ]
  },
  {
   "cell_type": "markdown",
   "id": "48b404d2",
   "metadata": {},
   "source": [
    "# The findall() Function"
   ]
  },
  {
   "cell_type": "code",
   "execution_count": 10,
   "id": "b45bf5dc",
   "metadata": {},
   "outputs": [],
   "source": [
    "# The findall() function returns a list containing all matches."
   ]
  },
  {
   "cell_type": "code",
   "execution_count": 11,
   "id": "ddeabab1",
   "metadata": {},
   "outputs": [
    {
     "name": "stdout",
     "output_type": "stream",
     "text": [
      "['ai', 'ai']\n"
     ]
    }
   ],
   "source": [
    "import re\n",
    "\n",
    "txt = \"The rain inain\"\n",
    "x = re.findall(\"ai\", txt)\n",
    "print(x)"
   ]
  },
  {
   "cell_type": "markdown",
   "id": "5a714af6",
   "metadata": {},
   "source": [
    "# The search() Function"
   ]
  },
  {
   "cell_type": "code",
   "execution_count": 12,
   "id": "e2c3e4bd",
   "metadata": {},
   "outputs": [],
   "source": [
    "# The search() function searches the string for a match, and returns a Match object if there is a match."
   ]
  },
  {
   "cell_type": "code",
   "execution_count": 13,
   "id": "1cc85074",
   "metadata": {},
   "outputs": [
    {
     "name": "stdout",
     "output_type": "stream",
     "text": [
      "The first white-space character is located in position: 3\n"
     ]
    }
   ],
   "source": [
    "import re\n",
    "\n",
    "txt = \"The rain in Spain\"\n",
    "x = re.search(\"\\s\", txt)\n",
    "\n",
    "print(\"The first white-space character is located in position:\", x.start())"
   ]
  },
  {
   "cell_type": "markdown",
   "id": "a4203d3c",
   "metadata": {},
   "source": [
    "# The split() Function"
   ]
  },
  {
   "cell_type": "code",
   "execution_count": 14,
   "id": "ce837c72",
   "metadata": {},
   "outputs": [],
   "source": [
    "# The split() function returns a list where the string has been split at each match:"
   ]
  },
  {
   "cell_type": "code",
   "execution_count": 15,
   "id": "04791f51",
   "metadata": {},
   "outputs": [
    {
     "name": "stdout",
     "output_type": "stream",
     "text": [
      "['The', 'rain', 'in', 'Spain']\n"
     ]
    }
   ],
   "source": [
    "import re\n",
    "\n",
    "txt = \"The rain in Spain\"\n",
    "x = re.split(\"\\s\", txt)\n",
    "print(x)"
   ]
  },
  {
   "cell_type": "markdown",
   "id": "fa38a0e0",
   "metadata": {},
   "source": [
    "# Python MySQL"
   ]
  },
  {
   "cell_type": "code",
   "execution_count": 16,
   "id": "1e7768f0",
   "metadata": {},
   "outputs": [],
   "source": [
    "# Python can be used in database applications.\n",
    "# One of the most popular databases is MySQL."
   ]
  },
  {
   "cell_type": "code",
   "execution_count": 17,
   "id": "d8e60466",
   "metadata": {},
   "outputs": [],
   "source": [
    "# MySQL Database:- To be able to experiment with the code examples in this tutorial, you should have MySQL installed on your computer.\n",
    "\n",
    "# You can download a MySQL database at https://www.mysql.com/downloads/."
   ]
  },
  {
   "cell_type": "markdown",
   "id": "5cdfda79",
   "metadata": {},
   "source": [
    "# Install MySQL Driver"
   ]
  },
  {
   "cell_type": "code",
   "execution_count": 18,
   "id": "66442ccb",
   "metadata": {},
   "outputs": [],
   "source": [
    "# Python needs a MySQL driver to access the MySQL database.\n",
    "\n",
    "# In this tutorial we will use the driver \"MySQL Connector\".\n",
    "\n",
    "# We recommend that you use PIP to install \"MySQL Connector\".\n",
    "\n",
    "# PIP is most likely already installed in your Python environment.\n",
    "\n",
    "# Navigate your command line to the location of PIP, and type the following:"
   ]
  },
  {
   "cell_type": "code",
   "execution_count": 19,
   "id": "44d137f0",
   "metadata": {},
   "outputs": [],
   "source": [
    "# C:\\Users\\Your Name\\AppData\\Local\\Programs\\Python\\Python36-32\\Scripts>python -m pip install mysql-connector-python"
   ]
  },
  {
   "cell_type": "markdown",
   "id": "380a7fec",
   "metadata": {},
   "source": [
    "# Test MySQL Connector"
   ]
  },
  {
   "cell_type": "code",
   "execution_count": null,
   "id": "353f9bcd",
   "metadata": {},
   "outputs": [],
   "source": [
    "import mysql.connector"
   ]
  },
  {
   "cell_type": "markdown",
   "id": "d5820735",
   "metadata": {},
   "source": [
    "# Python MySQL Create Database"
   ]
  },
  {
   "cell_type": "code",
   "execution_count": null,
   "id": "e6c23109",
   "metadata": {},
   "outputs": [],
   "source": [
    "# To create a database in MySQL, use the \"CREATE DATABASE\" statement:\n",
    "\n",
    "import mysql.connector\n",
    "\n",
    "mydb = mysql.connector.connect(\n",
    "  host=\"localhost\",\n",
    "  user=\"yourusername\",\n",
    "  password=\"yourpassword\"\n",
    ")\n",
    "\n",
    "mycursor = mydb.cursor()\n",
    "\n",
    "mycursor.execute(\"CREATE DATABASE mydatabase\")"
   ]
  },
  {
   "cell_type": "code",
   "execution_count": null,
   "id": "09e3e898",
   "metadata": {},
   "outputs": [],
   "source": [
    "# Check if Database Exists\n",
    "\n",
    "import mysql.connector\n",
    "\n",
    "mydb = mysql.connector.connect(\n",
    "  host=\"localhost\",\n",
    "  user=\"yourusername\",\n",
    "  password=\"yourpassword\"\n",
    ")\n",
    "\n",
    "mycursor = mydb.cursor()\n",
    "\n",
    "mycursor.execute(\"SHOW DATABASES\")\n",
    "\n",
    "for x in mycursor:\n",
    "  print(x)"
   ]
  },
  {
   "cell_type": "markdown",
   "id": "360ce7b5",
   "metadata": {},
   "source": [
    "# Python MySQL Create Table"
   ]
  },
  {
   "cell_type": "code",
   "execution_count": null,
   "id": "cac971a6",
   "metadata": {},
   "outputs": [],
   "source": [
    "# To create a table in MySQL, use the \"CREATE TABLE\" statement.\n",
    "\n",
    "import mysql.connector\n",
    "\n",
    "mydb = mysql.connector.connect(\n",
    "  host=\"localhost\",\n",
    "  user=\"yourusername\",\n",
    "  password=\"yourpassword\",\n",
    "  database=\"mydatabase\"\n",
    ")\n",
    "\n",
    "mycursor = mydb.cursor()\n",
    "\n",
    "mycursor.execute(\"CREATE TABLE customers (name VARCHAR(255), address VARCHAR(255))\")"
   ]
  },
  {
   "cell_type": "markdown",
   "id": "ac53b0c1",
   "metadata": {},
   "source": [
    "# Python MySQL Insert Into Table"
   ]
  },
  {
   "cell_type": "code",
   "execution_count": null,
   "id": "1a104c7a",
   "metadata": {},
   "outputs": [],
   "source": [
    "import mysql.connector\n",
    "\n",
    "mydb = mysql.connector.connect(\n",
    "  host=\"localhost\",\n",
    "  user=\"yourusername\",\n",
    "  password=\"yourpassword\",\n",
    "  database=\"mydatabase\"\n",
    ")\n",
    "\n",
    "mycursor = mydb.cursor()\n",
    "\n",
    "sql = \"INSERT INTO customers (name, address) VALUES (%s, %s)\"\n",
    "val = (\"John\", \"Highway 21\")\n",
    "mycursor.execute(sql, val)\n",
    "\n",
    "mydb.commit()\n",
    "\n",
    "print(mycursor.rowcount, \"record inserted.\")"
   ]
  },
  {
   "cell_type": "code",
   "execution_count": null,
   "id": "ea344959",
   "metadata": {},
   "outputs": [],
   "source": [
    "# Insert Multiple Rows\n",
    "import mysql.connector\n",
    "\n",
    "mydb = mysql.connector.connect(\n",
    "  host=\"localhost\",\n",
    "  user=\"yourusername\",\n",
    "  password=\"yourpassword\",\n",
    "  database=\"mydatabase\"\n",
    ")\n",
    "\n",
    "mycursor = mydb.cursor()\n",
    "\n",
    "sql = \"INSERT INTO customers (name, address) VALUES (%s, %s)\"\n",
    "val = [\n",
    "  ('Peter', 'Lowstreet 4'),\n",
    "  ('Amy', 'Apple st 652'),\n",
    "  ('Hannah', 'Mountain 21'),\n",
    "  ('Michael', 'Valley 345'),\n",
    "  ('Sandy', 'Ocean blvd 2'),\n",
    "  ('Betty', 'Green Grass 1'),\n",
    "  ('Richard', 'Sky st 331'),\n",
    "  ('Susan', 'One way 98'),\n",
    "  ('Vicky', 'Yellow Garden 2'),\n",
    "  ('Ben', 'Park Lane 38'),\n",
    "  ('William', 'Central st 954'),\n",
    "  ('Chuck', 'Main Road 989'),\n",
    "  ('Viola', 'Sideway 1633')\n",
    "]\n",
    "\n",
    "mycursor.executemany(sql, val)\n",
    "\n",
    "mydb.commit()\n",
    "\n",
    "print(mycursor.rowcount, \"was inserted.\")"
   ]
  },
  {
   "cell_type": "markdown",
   "id": "4e610f67",
   "metadata": {},
   "source": [
    "# Python MySQL Select From"
   ]
  },
  {
   "cell_type": "code",
   "execution_count": null,
   "id": "dde75689",
   "metadata": {},
   "outputs": [],
   "source": [
    "# To select from a table in MySQL, use the \"SELECT\" statement:\n",
    "\n",
    "import mysql.connector\n",
    "\n",
    "mydb = mysql.connector.connect(\n",
    "  host=\"localhost\",\n",
    "  user=\"yourusername\",\n",
    "  password=\"yourpassword\",\n",
    "  database=\"mydatabase\"\n",
    ")\n",
    "\n",
    "mycursor = mydb.cursor()\n",
    "\n",
    "mycursor.execute(\"SELECT * FROM customers\")\n",
    "\n",
    "myresult = mycursor.fetchall()\n",
    "\n",
    "for x in myresult:\n",
    "  print(x)"
   ]
  },
  {
   "cell_type": "markdown",
   "id": "bad4430b",
   "metadata": {},
   "source": [
    "# Python MySQL Where"
   ]
  },
  {
   "cell_type": "code",
   "execution_count": null,
   "id": "c0e36aaa",
   "metadata": {},
   "outputs": [],
   "source": [
    "import mysql.connector\n",
    "\n",
    "mydb = mysql.connector.connect(\n",
    "  host=\"localhost\",\n",
    "  user=\"yourusername\",\n",
    "  password=\"yourpassword\",\n",
    "  database=\"mydatabase\"\n",
    ")\n",
    "\n",
    "mycursor = mydb.cursor()\n",
    "\n",
    "sql = \"SELECT * FROM customers WHERE address ='Park Lane 38'\"\n",
    "\n",
    "mycursor.execute(sql)\n",
    "\n",
    "myresult = mycursor.fetchall()\n",
    "\n",
    "for x in myresult:\n",
    "  print(x)"
   ]
  },
  {
   "cell_type": "markdown",
   "id": "651fdc6d",
   "metadata": {},
   "source": [
    "# Python MySQL Order By"
   ]
  },
  {
   "cell_type": "code",
   "execution_count": null,
   "id": "886e85b8",
   "metadata": {},
   "outputs": [],
   "source": [
    "import mysql.connector\n",
    "\n",
    "mydb = mysql.connector.connect(\n",
    "  host=\"localhost\",\n",
    "  user=\"yourusername\",\n",
    "  password=\"yourpassword\",\n",
    "  database=\"mydatabase\"\n",
    ")\n",
    "\n",
    "mycursor = mydb.cursor()\n",
    "\n",
    "sql = \"SELECT * FROM customers ORDER BY name\"\n",
    "\n",
    "mycursor.execute(sql)\n",
    "\n",
    "myresult = mycursor.fetchall()\n",
    "\n",
    "for x in myresult:\n",
    "  print(x)"
   ]
  },
  {
   "cell_type": "code",
   "execution_count": null,
   "id": "1ca80bec",
   "metadata": {},
   "outputs": [],
   "source": []
  }
 ],
 "metadata": {
  "kernelspec": {
   "display_name": "Python 3 (ipykernel)",
   "language": "python",
   "name": "python3"
  },
  "language_info": {
   "codemirror_mode": {
    "name": "ipython",
    "version": 3
   },
   "file_extension": ".py",
   "mimetype": "text/x-python",
   "name": "python",
   "nbconvert_exporter": "python",
   "pygments_lexer": "ipython3",
   "version": "3.9.12"
  }
 },
 "nbformat": 4,
 "nbformat_minor": 5
}
